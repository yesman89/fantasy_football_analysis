{
 "cells": [
  {
   "cell_type": "code",
   "execution_count": 1,
   "metadata": {},
   "outputs": [
    {
     "name": "stderr",
     "output_type": "stream",
     "text": [
      "Warning message:\n",
      "\"package 'tidyverse' was built under R version 3.4.3\"-- Attaching packages --------------------------------------- tidyverse 1.2.1 --\n",
      "v ggplot2 2.2.1     v purrr   0.2.4\n",
      "v tibble  1.4.1     v dplyr   0.7.4\n",
      "v tidyr   0.7.2     v stringr 1.2.0\n",
      "v readr   1.1.1     v forcats 0.2.0\n",
      "Warning message:\n",
      "\"package 'tibble' was built under R version 3.4.3\"Warning message:\n",
      "\"package 'tidyr' was built under R version 3.4.2\"Warning message:\n",
      "\"package 'readr' was built under R version 3.4.2\"Warning message:\n",
      "\"package 'purrr' was built under R version 3.4.3\"Warning message:\n",
      "\"package 'dplyr' was built under R version 3.4.3\"Warning message:\n",
      "\"package 'forcats' was built under R version 3.4.2\"-- Conflicts ------------------------------------------ tidyverse_conflicts() --\n",
      "x dplyr::filter() masks stats::filter()\n",
      "x dplyr::lag()    masks stats::lag()\n",
      "Warning message:\n",
      "\"package 'readxl' was built under R version 3.4.3\""
     ]
    }
   ],
   "source": [
    "library(tidyverse)\n",
    "library(readxl)"
   ]
  },
  {
   "cell_type": "markdown",
   "metadata": {},
   "source": [
    "# Part 1: Reading in and cleaning the data"
   ]
  },
  {
   "cell_type": "code",
   "execution_count": 2,
   "metadata": {},
   "outputs": [],
   "source": [
    "# Read in the fantasy football data\n",
    "fantasy_data <- read_xlsx('FantasyFootballData2020.xlsx')"
   ]
  },
  {
   "cell_type": "code",
   "execution_count": 3,
   "metadata": {},
   "outputs": [
    {
     "data": {
      "text/html": [
       "<table>\n",
       "<thead><tr><th scope=col>Team</th><th scope=col>Position</th><th scope=col>Name</th><th scope=col>Projected</th><th scope=col>Points</th><th scope=col>Starter</th><th scope=col>Week</th></tr></thead>\n",
       "<tbody>\n",
       "\t<tr><td>Team 1                      </td><td>QB                          </td><td>Cam NewtonCam Newton        </td><td>18.1                        </td><td>25.7                        </td><td>Yes                         </td><td>1                           </td></tr>\n",
       "\t<tr><td>Team 1                      </td><td>RB                          </td><td>Alvin KamaraAlvin Kamara    </td><td>19.6                        </td><td>23.7                        </td><td>Yes                         </td><td>1                           </td></tr>\n",
       "\t<tr><td>Team 1                      </td><td>RB                          </td><td>Kenyan DrakeKenyan Drake    </td><td>16.4                        </td><td>14.5                        </td><td>Yes                         </td><td>1                           </td></tr>\n",
       "\t<tr><td>Team 1                      </td><td>WR                          </td><td>DJ MooreDJ Moore            </td><td>15.0                        </td><td> 9.4                        </td><td>Yes                         </td><td>1                           </td></tr>\n",
       "\t<tr><td>Team 1                      </td><td>WR                          </td><td>Amari CooperAmari Cooper    </td><td>13.4                        </td><td>18.1                        </td><td>Yes                         </td><td>1                           </td></tr>\n",
       "\t<tr><td>Team 1                      </td><td>TE                          </td><td>Rob GronkowskiRob Gronkowski</td><td> 9.6                        </td><td> 3.1                        </td><td>Yes                         </td><td>1                           </td></tr>\n",
       "</tbody>\n",
       "</table>\n"
      ],
      "text/latex": [
       "\\begin{tabular}{r|lllllll}\n",
       " Team & Position & Name & Projected & Points & Starter & Week\\\\\n",
       "\\hline\n",
       "\t Team 1                       & QB                           & Cam NewtonCam Newton         & 18.1                         & 25.7                         & Yes                          & 1                           \\\\\n",
       "\t Team 1                       & RB                           & Alvin KamaraAlvin Kamara     & 19.6                         & 23.7                         & Yes                          & 1                           \\\\\n",
       "\t Team 1                       & RB                           & Kenyan DrakeKenyan Drake     & 16.4                         & 14.5                         & Yes                          & 1                           \\\\\n",
       "\t Team 1                       & WR                           & DJ MooreDJ Moore             & 15.0                         &  9.4                         & Yes                          & 1                           \\\\\n",
       "\t Team 1                       & WR                           & Amari CooperAmari Cooper     & 13.4                         & 18.1                         & Yes                          & 1                           \\\\\n",
       "\t Team 1                       & TE                           & Rob GronkowskiRob Gronkowski &  9.6                         &  3.1                         & Yes                          & 1                           \\\\\n",
       "\\end{tabular}\n"
      ],
      "text/markdown": [
       "\n",
       "Team | Position | Name | Projected | Points | Starter | Week | \n",
       "|---|---|---|---|---|---|\n",
       "| Team 1                       | QB                           | Cam NewtonCam Newton         | 18.1                         | 25.7                         | Yes                          | 1                            | \n",
       "| Team 1                       | RB                           | Alvin KamaraAlvin Kamara     | 19.6                         | 23.7                         | Yes                          | 1                            | \n",
       "| Team 1                       | RB                           | Kenyan DrakeKenyan Drake     | 16.4                         | 14.5                         | Yes                          | 1                            | \n",
       "| Team 1                       | WR                           | DJ MooreDJ Moore             | 15.0                         |  9.4                         | Yes                          | 1                            | \n",
       "| Team 1                       | WR                           | Amari CooperAmari Cooper     | 13.4                         | 18.1                         | Yes                          | 1                            | \n",
       "| Team 1                       | TE                           | Rob GronkowskiRob Gronkowski |  9.6                         |  3.1                         | Yes                          | 1                            | \n",
       "\n",
       "\n"
      ],
      "text/plain": [
       "  Team   Position Name                         Projected Points Starter Week\n",
       "1 Team 1 QB       Cam NewtonCam Newton         18.1      25.7   Yes     1   \n",
       "2 Team 1 RB       Alvin KamaraAlvin Kamara     19.6      23.7   Yes     1   \n",
       "3 Team 1 RB       Kenyan DrakeKenyan Drake     16.4      14.5   Yes     1   \n",
       "4 Team 1 WR       DJ MooreDJ Moore             15.0       9.4   Yes     1   \n",
       "5 Team 1 WR       Amari CooperAmari Cooper     13.4      18.1   Yes     1   \n",
       "6 Team 1 TE       Rob GronkowskiRob Gronkowski  9.6       3.1   Yes     1   "
      ]
     },
     "metadata": {},
     "output_type": "display_data"
    }
   ],
   "source": [
    "head(fantasy_data)"
   ]
  },
  {
   "cell_type": "code",
   "execution_count": 4,
   "metadata": {},
   "outputs": [
    {
     "name": "stdout",
     "output_type": "stream",
     "text": [
      "Classes 'tbl_df', 'tbl' and 'data.frame':\t2240 obs. of  7 variables:\n",
      " $ Team     : chr  \"Team 1\" \"Team 1\" \"Team 1\" \"Team 1\" ...\n",
      " $ Position : chr  \"QB\" \"RB\" \"RB\" \"WR\" ...\n",
      " $ Name     : chr  \"Cam NewtonCam Newton\" \"Alvin KamaraAlvin Kamara\" \"Kenyan DrakeKenyan Drake\" \"DJ MooreDJ Moore\" ...\n",
      " $ Projected: num  18.1 19.6 16.4 15 13.4 9.6 14.5 6.3 8.7 13.7 ...\n",
      " $ Points   : num  25.7 23.7 14.5 9.4 18.1 3.1 9.3 -9 9 6.6 ...\n",
      " $ Starter  : chr  \"Yes\" \"Yes\" \"Yes\" \"Yes\" ...\n",
      " $ Week     : num  1 1 1 1 1 1 1 1 1 1 ...\n"
     ]
    }
   ],
   "source": [
    "str(fantasy_data)"
   ]
  },
  {
   "cell_type": "code",
   "execution_count": 5,
   "metadata": {},
   "outputs": [],
   "source": [
    "# Clean the data. First correct the Name column to only display no duplicates\n",
    "fantasy_data$Name <- substr(fantasy_data$Name, 1, (nchar(fantasy_data$Name)/2))"
   ]
  },
  {
   "cell_type": "code",
   "execution_count": 6,
   "metadata": {},
   "outputs": [],
   "source": [
    "# Change week column to be categorical\n",
    "fantasy_data$Week <- as.factor(fantasy_data$Week)"
   ]
  },
  {
   "cell_type": "code",
   "execution_count": 7,
   "metadata": {},
   "outputs": [
    {
     "name": "stdout",
     "output_type": "stream",
     "text": [
      "Classes 'tbl_df', 'tbl' and 'data.frame':\t2240 obs. of  7 variables:\n",
      " $ Team     : chr  \"Team 1\" \"Team 1\" \"Team 1\" \"Team 1\" ...\n",
      " $ Position : chr  \"QB\" \"RB\" \"RB\" \"WR\" ...\n",
      " $ Name     : chr  \"Cam Newton\" \"Alvin Kamara\" \"Kenyan Drake\" \"DJ Moore\" ...\n",
      " $ Projected: num  18.1 19.6 16.4 15 13.4 9.6 14.5 6.3 8.7 13.7 ...\n",
      " $ Points   : num  25.7 23.7 14.5 9.4 18.1 3.1 9.3 -9 9 6.6 ...\n",
      " $ Starter  : chr  \"Yes\" \"Yes\" \"Yes\" \"Yes\" ...\n",
      " $ Week     : Factor w/ 14 levels \"1\",\"2\",\"3\",\"4\",..: 1 1 1 1 1 1 1 1 1 1 ...\n"
     ]
    }
   ],
   "source": [
    "# Now the data looks fine and it is time to transform the data and create new tables\n",
    "str(fantasy_data)"
   ]
  },
  {
   "cell_type": "code",
   "execution_count": 36,
   "metadata": {},
   "outputs": [],
   "source": [
    "# Add unique id column for later\n",
    "fantasy_data$unique <- paste0(fantasy_data$Team, fantasy_data$Position, fantasy_data$Week)"
   ]
  },
  {
   "cell_type": "markdown",
   "metadata": {},
   "source": [
    "# Part 2: Creating data sets"
   ]
  },
  {
   "cell_type": "code",
   "execution_count": 8,
   "metadata": {},
   "outputs": [
    {
     "data": {
      "text/html": [
       "<table>\n",
       "<thead><tr><th scope=col>Team</th><th scope=col>Actual</th><th scope=col>Projected</th><th scope=col>Difference</th></tr></thead>\n",
       "<tbody>\n",
       "\t<tr><td>Team 1 </td><td>1756.90</td><td>1714.2 </td><td>  42.70</td></tr>\n",
       "\t<tr><td>Team 10</td><td>1982.10</td><td>2025.6 </td><td> -43.50</td></tr>\n",
       "\t<tr><td>Team 2 </td><td>1614.80</td><td>1633.6 </td><td> -18.80</td></tr>\n",
       "\t<tr><td>Team 3 </td><td>1788.90</td><td>1844.8 </td><td> -55.90</td></tr>\n",
       "\t<tr><td>Team 4 </td><td>1617.80</td><td>1669.1 </td><td> -51.30</td></tr>\n",
       "\t<tr><td>Team 5 </td><td>1897.58</td><td>1778.7 </td><td> 118.88</td></tr>\n",
       "\t<tr><td>Team 6 </td><td>1490.18</td><td>1546.9 </td><td> -56.72</td></tr>\n",
       "\t<tr><td>Team 7 </td><td>1539.44</td><td>1701.7 </td><td>-162.26</td></tr>\n",
       "\t<tr><td>Team 8 </td><td>1631.68</td><td>1636.4 </td><td>  -4.72</td></tr>\n",
       "\t<tr><td>Team 9 </td><td>1796.78</td><td>1686.4 </td><td> 110.38</td></tr>\n",
       "</tbody>\n",
       "</table>\n"
      ],
      "text/latex": [
       "\\begin{tabular}{r|llll}\n",
       " Team & Actual & Projected & Difference\\\\\n",
       "\\hline\n",
       "\t Team 1  & 1756.90 & 1714.2  &   42.70\\\\\n",
       "\t Team 10 & 1982.10 & 2025.6  &  -43.50\\\\\n",
       "\t Team 2  & 1614.80 & 1633.6  &  -18.80\\\\\n",
       "\t Team 3  & 1788.90 & 1844.8  &  -55.90\\\\\n",
       "\t Team 4  & 1617.80 & 1669.1  &  -51.30\\\\\n",
       "\t Team 5  & 1897.58 & 1778.7  &  118.88\\\\\n",
       "\t Team 6  & 1490.18 & 1546.9  &  -56.72\\\\\n",
       "\t Team 7  & 1539.44 & 1701.7  & -162.26\\\\\n",
       "\t Team 8  & 1631.68 & 1636.4  &   -4.72\\\\\n",
       "\t Team 9  & 1796.78 & 1686.4  &  110.38\\\\\n",
       "\\end{tabular}\n"
      ],
      "text/markdown": [
       "\n",
       "Team | Actual | Projected | Difference | \n",
       "|---|---|---|---|---|---|---|---|---|---|\n",
       "| Team 1  | 1756.90 | 1714.2  |   42.70 | \n",
       "| Team 10 | 1982.10 | 2025.6  |  -43.50 | \n",
       "| Team 2  | 1614.80 | 1633.6  |  -18.80 | \n",
       "| Team 3  | 1788.90 | 1844.8  |  -55.90 | \n",
       "| Team 4  | 1617.80 | 1669.1  |  -51.30 | \n",
       "| Team 5  | 1897.58 | 1778.7  |  118.88 | \n",
       "| Team 6  | 1490.18 | 1546.9  |  -56.72 | \n",
       "| Team 7  | 1539.44 | 1701.7  | -162.26 | \n",
       "| Team 8  | 1631.68 | 1636.4  |   -4.72 | \n",
       "| Team 9  | 1796.78 | 1686.4  |  110.38 | \n",
       "\n",
       "\n"
      ],
      "text/plain": [
       "   Team    Actual  Projected Difference\n",
       "1  Team 1  1756.90 1714.2      42.70   \n",
       "2  Team 10 1982.10 2025.6     -43.50   \n",
       "3  Team 2  1614.80 1633.6     -18.80   \n",
       "4  Team 3  1788.90 1844.8     -55.90   \n",
       "5  Team 4  1617.80 1669.1     -51.30   \n",
       "6  Team 5  1897.58 1778.7     118.88   \n",
       "7  Team 6  1490.18 1546.9     -56.72   \n",
       "8  Team 7  1539.44 1701.7    -162.26   \n",
       "9  Team 8  1631.68 1636.4      -4.72   \n",
       "10 Team 9  1796.78 1686.4     110.38   "
      ]
     },
     "metadata": {},
     "output_type": "display_data"
    }
   ],
   "source": [
    "# Summarize point totals by team\n",
    "point_totals <- fantasy_data %>% filter(Starter == 'Yes') %>%\n",
    "                                 group_by(Team) %>%\n",
    "                                 summarize(Actual = sum(Points), Projected = sum(Projected),\n",
    "                                           Difference = Actual - Projected) \n",
    "point_totals                "
   ]
  },
  {
   "cell_type": "code",
   "execution_count": 9,
   "metadata": {
    "scrolled": true
   },
   "outputs": [
    {
     "data": {
      "text/html": [
       "<table>\n",
       "<thead><tr><th scope=col>Team</th><th scope=col>Week</th><th scope=col>Actual</th><th scope=col>Projected</th><th scope=col>Difference</th></tr></thead>\n",
       "<tbody>\n",
       "\t<tr><td>Team 1</td><td>1     </td><td>103.80</td><td>121.6 </td><td>-17.80</td></tr>\n",
       "\t<tr><td>Team 1</td><td>2     </td><td>136.10</td><td>119.0 </td><td> 17.10</td></tr>\n",
       "\t<tr><td>Team 1</td><td>3     </td><td>163.82</td><td>127.4 </td><td> 36.42</td></tr>\n",
       "\t<tr><td>Team 1</td><td>4     </td><td>134.88</td><td>131.8 </td><td>  3.08</td></tr>\n",
       "\t<tr><td>Team 1</td><td>5     </td><td>142.06</td><td>126.2 </td><td> 15.86</td></tr>\n",
       "\t<tr><td>Team 1</td><td>6     </td><td>123.00</td><td>117.7 </td><td>  5.30</td></tr>\n",
       "</tbody>\n",
       "</table>\n"
      ],
      "text/latex": [
       "\\begin{tabular}{r|lllll}\n",
       " Team & Week & Actual & Projected & Difference\\\\\n",
       "\\hline\n",
       "\t Team 1 & 1      & 103.80 & 121.6  & -17.80\\\\\n",
       "\t Team 1 & 2      & 136.10 & 119.0  &  17.10\\\\\n",
       "\t Team 1 & 3      & 163.82 & 127.4  &  36.42\\\\\n",
       "\t Team 1 & 4      & 134.88 & 131.8  &   3.08\\\\\n",
       "\t Team 1 & 5      & 142.06 & 126.2  &  15.86\\\\\n",
       "\t Team 1 & 6      & 123.00 & 117.7  &   5.30\\\\\n",
       "\\end{tabular}\n"
      ],
      "text/markdown": [
       "\n",
       "Team | Week | Actual | Projected | Difference | \n",
       "|---|---|---|---|---|---|\n",
       "| Team 1 | 1      | 103.80 | 121.6  | -17.80 | \n",
       "| Team 1 | 2      | 136.10 | 119.0  |  17.10 | \n",
       "| Team 1 | 3      | 163.82 | 127.4  |  36.42 | \n",
       "| Team 1 | 4      | 134.88 | 131.8  |   3.08 | \n",
       "| Team 1 | 5      | 142.06 | 126.2  |  15.86 | \n",
       "| Team 1 | 6      | 123.00 | 117.7  |   5.30 | \n",
       "\n",
       "\n"
      ],
      "text/plain": [
       "  Team   Week Actual Projected Difference\n",
       "1 Team 1 1    103.80 121.6     -17.80    \n",
       "2 Team 1 2    136.10 119.0      17.10    \n",
       "3 Team 1 3    163.82 127.4      36.42    \n",
       "4 Team 1 4    134.88 131.8       3.08    \n",
       "5 Team 1 5    142.06 126.2      15.86    \n",
       "6 Team 1 6    123.00 117.7       5.30    "
      ]
     },
     "metadata": {},
     "output_type": "display_data"
    }
   ],
   "source": [
    "# Summarize point totals by team and week\n",
    "point_totals_week <- fantasy_data %>% filter(Starter == 'Yes') %>%\n",
    "                                 group_by(Team, Week) %>%\n",
    "                                 summarize(Actual = sum(Points), Projected = sum(Projected),\n",
    "                                           Difference = Actual - Projected) \n",
    "head(point_totals_week)       "
   ]
  },
  {
   "cell_type": "code",
   "execution_count": 10,
   "metadata": {},
   "outputs": [
    {
     "data": {
      "text/html": [
       "<table>\n",
       "<thead><tr><th scope=col>Team</th><th scope=col>Name</th><th scope=col>Position</th><th scope=col>Week</th><th scope=col>Actual</th><th scope=col>Projected</th><th scope=col>Difference</th></tr></thead>\n",
       "<tbody>\n",
       "\t<tr><td>Team 1       </td><td>Aaron Rodgers</td><td>QB           </td><td>2            </td><td>19.20        </td><td>18.0         </td><td>  1.20       </td></tr>\n",
       "\t<tr><td>Team 1       </td><td>Aaron Rodgers</td><td>QB           </td><td>3            </td><td>24.52        </td><td>18.0         </td><td>  6.52       </td></tr>\n",
       "\t<tr><td>Team 1       </td><td>Aaron Rodgers</td><td>QB           </td><td>4            </td><td>29.58        </td><td>21.1         </td><td>  8.48       </td></tr>\n",
       "\t<tr><td>Team 1       </td><td>Aaron Rodgers</td><td>QB           </td><td>6            </td><td> 3.80        </td><td>19.4         </td><td>-15.60       </td></tr>\n",
       "\t<tr><td>Team 1       </td><td>Aaron Rodgers</td><td>QB           </td><td>7            </td><td>27.32        </td><td>20.6         </td><td>  6.72       </td></tr>\n",
       "\t<tr><td>Team 1       </td><td>Aaron Rodgers</td><td>QB           </td><td>8            </td><td>22.54        </td><td>19.2         </td><td>  3.34       </td></tr>\n",
       "</tbody>\n",
       "</table>\n"
      ],
      "text/latex": [
       "\\begin{tabular}{r|lllllll}\n",
       " Team & Name & Position & Week & Actual & Projected & Difference\\\\\n",
       "\\hline\n",
       "\t Team 1        & Aaron Rodgers & QB            & 2             & 19.20         & 18.0          &   1.20       \\\\\n",
       "\t Team 1        & Aaron Rodgers & QB            & 3             & 24.52         & 18.0          &   6.52       \\\\\n",
       "\t Team 1        & Aaron Rodgers & QB            & 4             & 29.58         & 21.1          &   8.48       \\\\\n",
       "\t Team 1        & Aaron Rodgers & QB            & 6             &  3.80         & 19.4          & -15.60       \\\\\n",
       "\t Team 1        & Aaron Rodgers & QB            & 7             & 27.32         & 20.6          &   6.72       \\\\\n",
       "\t Team 1        & Aaron Rodgers & QB            & 8             & 22.54         & 19.2          &   3.34       \\\\\n",
       "\\end{tabular}\n"
      ],
      "text/markdown": [
       "\n",
       "Team | Name | Position | Week | Actual | Projected | Difference | \n",
       "|---|---|---|---|---|---|\n",
       "| Team 1        | Aaron Rodgers | QB            | 2             | 19.20         | 18.0          |   1.20        | \n",
       "| Team 1        | Aaron Rodgers | QB            | 3             | 24.52         | 18.0          |   6.52        | \n",
       "| Team 1        | Aaron Rodgers | QB            | 4             | 29.58         | 21.1          |   8.48        | \n",
       "| Team 1        | Aaron Rodgers | QB            | 6             |  3.80         | 19.4          | -15.60        | \n",
       "| Team 1        | Aaron Rodgers | QB            | 7             | 27.32         | 20.6          |   6.72        | \n",
       "| Team 1        | Aaron Rodgers | QB            | 8             | 22.54         | 19.2          |   3.34        | \n",
       "\n",
       "\n"
      ],
      "text/plain": [
       "  Team   Name          Position Week Actual Projected Difference\n",
       "1 Team 1 Aaron Rodgers QB       2    19.20  18.0        1.20    \n",
       "2 Team 1 Aaron Rodgers QB       3    24.52  18.0        6.52    \n",
       "3 Team 1 Aaron Rodgers QB       4    29.58  21.1        8.48    \n",
       "4 Team 1 Aaron Rodgers QB       6     3.80  19.4      -15.60    \n",
       "5 Team 1 Aaron Rodgers QB       7    27.32  20.6        6.72    \n",
       "6 Team 1 Aaron Rodgers QB       8    22.54  19.2        3.34    "
      ]
     },
     "metadata": {},
     "output_type": "display_data"
    }
   ],
   "source": [
    "# Summarize point totals by team, player, by position, by week\n",
    "point_totals_player <- fantasy_data %>% filter(Starter == 'Yes') %>%\n",
    "                                 group_by(Team, Name, Position, Week) %>%\n",
    "                                 summarize(Actual = sum(Points), Projected = sum(Projected),\n",
    "                                           Difference = Actual - Projected) \n",
    "head(point_totals_player) "
   ]
  },
  {
   "cell_type": "code",
   "execution_count": 11,
   "metadata": {},
   "outputs": [],
   "source": [
    "# Write to excel as a csv file for seperate presentation\n",
    "write.csv(point_totals_week, \"point_totals_week.csv\")\n",
    "write.csv(point_totals_player, \"point_totals_player.csv\")"
   ]
  },
  {
   "cell_type": "markdown",
   "metadata": {},
   "source": [
    "# Part 3: Decision making metrics"
   ]
  },
  {
   "cell_type": "code",
   "execution_count": null,
   "metadata": {},
   "outputs": [],
   "source": [
    "# We want to create something that takes a look at starters vs bench and see if a bench\n",
    "# player has  more actual points than a starter of the same position. If yes, then create a column\n",
    "# with a 1 else 0."
   ]
  },
  {
   "cell_type": "code",
   "execution_count": 38,
   "metadata": {},
   "outputs": [],
   "source": [
    "# Find the max value by Team, Position, and Week\n",
    "max <- aggregate(Points ~ Team + Position + Week, fantasy_data, function(x) {max(x)})\n",
    "\n",
    "# Add unique id column\n",
    "max$unique <- paste0(max$Team, max$Position, max$Week)\n",
    "\n",
    "# Rename Points column to Largest\n",
    "max <- max %>% rename(Largest = Points)"
   ]
  },
  {
   "cell_type": "code",
   "execution_count": 39,
   "metadata": {},
   "outputs": [
    {
     "data": {
      "text/html": [
       "<table>\n",
       "<thead><tr><th scope=col>Team</th><th scope=col>Position</th><th scope=col>Week</th><th scope=col>Largest</th><th scope=col>unique</th></tr></thead>\n",
       "<tbody>\n",
       "\t<tr><td>Team 1      </td><td>D/ST        </td><td>1           </td><td>-9          </td><td>Team 1D/ST1 </td></tr>\n",
       "\t<tr><td>Team 10     </td><td>D/ST        </td><td>1           </td><td>17          </td><td>Team 10D/ST1</td></tr>\n",
       "\t<tr><td>Team 2      </td><td>D/ST        </td><td>1           </td><td>12          </td><td>Team 2D/ST1 </td></tr>\n",
       "\t<tr><td>Team 3      </td><td>D/ST        </td><td>1           </td><td>10          </td><td>Team 3D/ST1 </td></tr>\n",
       "\t<tr><td>Team 4      </td><td>D/ST        </td><td>1           </td><td> 5          </td><td>Team 4D/ST1 </td></tr>\n",
       "\t<tr><td>Team 5      </td><td>D/ST        </td><td>1           </td><td> 3          </td><td>Team 5D/ST1 </td></tr>\n",
       "</tbody>\n",
       "</table>\n"
      ],
      "text/latex": [
       "\\begin{tabular}{r|lllll}\n",
       " Team & Position & Week & Largest & unique\\\\\n",
       "\\hline\n",
       "\t Team 1       & D/ST         & 1            & -9           & Team 1D/ST1 \\\\\n",
       "\t Team 10      & D/ST         & 1            & 17           & Team 10D/ST1\\\\\n",
       "\t Team 2       & D/ST         & 1            & 12           & Team 2D/ST1 \\\\\n",
       "\t Team 3       & D/ST         & 1            & 10           & Team 3D/ST1 \\\\\n",
       "\t Team 4       & D/ST         & 1            &  5           & Team 4D/ST1 \\\\\n",
       "\t Team 5       & D/ST         & 1            &  3           & Team 5D/ST1 \\\\\n",
       "\\end{tabular}\n"
      ],
      "text/markdown": [
       "\n",
       "Team | Position | Week | Largest | unique | \n",
       "|---|---|---|---|---|---|\n",
       "| Team 1       | D/ST         | 1            | -9           | Team 1D/ST1  | \n",
       "| Team 10      | D/ST         | 1            | 17           | Team 10D/ST1 | \n",
       "| Team 2       | D/ST         | 1            | 12           | Team 2D/ST1  | \n",
       "| Team 3       | D/ST         | 1            | 10           | Team 3D/ST1  | \n",
       "| Team 4       | D/ST         | 1            |  5           | Team 4D/ST1  | \n",
       "| Team 5       | D/ST         | 1            |  3           | Team 5D/ST1  | \n",
       "\n",
       "\n"
      ],
      "text/plain": [
       "  Team    Position Week Largest unique      \n",
       "1 Team 1  D/ST     1    -9      Team 1D/ST1 \n",
       "2 Team 10 D/ST     1    17      Team 10D/ST1\n",
       "3 Team 2  D/ST     1    12      Team 2D/ST1 \n",
       "4 Team 3  D/ST     1    10      Team 3D/ST1 \n",
       "5 Team 4  D/ST     1     5      Team 4D/ST1 \n",
       "6 Team 5  D/ST     1     3      Team 5D/ST1 "
      ]
     },
     "metadata": {},
     "output_type": "display_data"
    }
   ],
   "source": [
    "head(max)"
   ]
  },
  {
   "cell_type": "code",
   "execution_count": 40,
   "metadata": {},
   "outputs": [],
   "source": [
    "# Find the second largest value by Team, Position, and Week\n",
    "max2 <- aggregate(Points ~ Team + Position + Week, fantasy_data, function(x) {tail(sort(x), 2)[1]})\n",
    "\n",
    "# Add unique id column\n",
    "max2$unique <- paste0(max2$Team, max2$Position, max2$Week)\n",
    "\n",
    "# Rename Points column to SecLargest\n",
    "max2 <- max2 %>% rename(SecLargest = Points)"
   ]
  },
  {
   "cell_type": "code",
   "execution_count": 41,
   "metadata": {},
   "outputs": [
    {
     "data": {
      "text/html": [
       "<table>\n",
       "<thead><tr><th scope=col>Team</th><th scope=col>Position</th><th scope=col>Week</th><th scope=col>SecLargest</th><th scope=col>unique</th></tr></thead>\n",
       "<tbody>\n",
       "\t<tr><td>Team 1      </td><td>D/ST        </td><td>1           </td><td>-9          </td><td>Team 1D/ST1 </td></tr>\n",
       "\t<tr><td>Team 10     </td><td>D/ST        </td><td>1           </td><td>10          </td><td>Team 10D/ST1</td></tr>\n",
       "\t<tr><td>Team 2      </td><td>D/ST        </td><td>1           </td><td>12          </td><td>Team 2D/ST1 </td></tr>\n",
       "\t<tr><td>Team 3      </td><td>D/ST        </td><td>1           </td><td>10          </td><td>Team 3D/ST1 </td></tr>\n",
       "\t<tr><td>Team 4      </td><td>D/ST        </td><td>1           </td><td> 5          </td><td>Team 4D/ST1 </td></tr>\n",
       "\t<tr><td>Team 5      </td><td>D/ST        </td><td>1           </td><td> 3          </td><td>Team 5D/ST1 </td></tr>\n",
       "</tbody>\n",
       "</table>\n"
      ],
      "text/latex": [
       "\\begin{tabular}{r|lllll}\n",
       " Team & Position & Week & SecLargest & unique\\\\\n",
       "\\hline\n",
       "\t Team 1       & D/ST         & 1            & -9           & Team 1D/ST1 \\\\\n",
       "\t Team 10      & D/ST         & 1            & 10           & Team 10D/ST1\\\\\n",
       "\t Team 2       & D/ST         & 1            & 12           & Team 2D/ST1 \\\\\n",
       "\t Team 3       & D/ST         & 1            & 10           & Team 3D/ST1 \\\\\n",
       "\t Team 4       & D/ST         & 1            &  5           & Team 4D/ST1 \\\\\n",
       "\t Team 5       & D/ST         & 1            &  3           & Team 5D/ST1 \\\\\n",
       "\\end{tabular}\n"
      ],
      "text/markdown": [
       "\n",
       "Team | Position | Week | SecLargest | unique | \n",
       "|---|---|---|---|---|---|\n",
       "| Team 1       | D/ST         | 1            | -9           | Team 1D/ST1  | \n",
       "| Team 10      | D/ST         | 1            | 10           | Team 10D/ST1 | \n",
       "| Team 2       | D/ST         | 1            | 12           | Team 2D/ST1  | \n",
       "| Team 3       | D/ST         | 1            | 10           | Team 3D/ST1  | \n",
       "| Team 4       | D/ST         | 1            |  5           | Team 4D/ST1  | \n",
       "| Team 5       | D/ST         | 1            |  3           | Team 5D/ST1  | \n",
       "\n",
       "\n"
      ],
      "text/plain": [
       "  Team    Position Week SecLargest unique      \n",
       "1 Team 1  D/ST     1    -9         Team 1D/ST1 \n",
       "2 Team 10 D/ST     1    10         Team 10D/ST1\n",
       "3 Team 2  D/ST     1    12         Team 2D/ST1 \n",
       "4 Team 3  D/ST     1    10         Team 3D/ST1 \n",
       "5 Team 4  D/ST     1     5         Team 4D/ST1 \n",
       "6 Team 5  D/ST     1     3         Team 5D/ST1 "
      ]
     },
     "metadata": {},
     "output_type": "display_data"
    }
   ],
   "source": [
    "head(max2)"
   ]
  },
  {
   "cell_type": "code",
   "execution_count": 42,
   "metadata": {},
   "outputs": [],
   "source": [
    "# Combine max and max2 tables\n",
    "combine <- merge(max, max2, by='unique')"
   ]
  },
  {
   "cell_type": "code",
   "execution_count": 43,
   "metadata": {},
   "outputs": [
    {
     "data": {
      "text/html": [
       "<table>\n",
       "<thead><tr><th scope=col>unique</th><th scope=col>Team.x</th><th scope=col>Position.x</th><th scope=col>Week.x</th><th scope=col>Largest</th><th scope=col>Team.y</th><th scope=col>Position.y</th><th scope=col>Week.y</th><th scope=col>SecLargest</th></tr></thead>\n",
       "<tbody>\n",
       "\t<tr><td>Team 10D/ST1 </td><td>Team 10      </td><td>D/ST         </td><td>1            </td><td>17           </td><td>Team 10      </td><td>D/ST         </td><td>1            </td><td>10           </td></tr>\n",
       "\t<tr><td>Team 10D/ST10</td><td>Team 10      </td><td>D/ST         </td><td>10           </td><td>11           </td><td>Team 10      </td><td>D/ST         </td><td>10           </td><td> 2           </td></tr>\n",
       "\t<tr><td>Team 10D/ST11</td><td>Team 10      </td><td>D/ST         </td><td>11           </td><td>16           </td><td>Team 10      </td><td>D/ST         </td><td>11           </td><td>16           </td></tr>\n",
       "\t<tr><td>Team 10D/ST12</td><td>Team 10      </td><td>D/ST         </td><td>12           </td><td>16           </td><td>Team 10      </td><td>D/ST         </td><td>12           </td><td>16           </td></tr>\n",
       "\t<tr><td>Team 10D/ST13</td><td>Team 10      </td><td>D/ST         </td><td>13           </td><td> 3           </td><td>Team 10      </td><td>D/ST         </td><td>13           </td><td> 3           </td></tr>\n",
       "\t<tr><td>Team 10D/ST14</td><td>Team 10      </td><td>D/ST         </td><td>14           </td><td>13           </td><td>Team 10      </td><td>D/ST         </td><td>14           </td><td> 5           </td></tr>\n",
       "</tbody>\n",
       "</table>\n"
      ],
      "text/latex": [
       "\\begin{tabular}{r|lllllllll}\n",
       " unique & Team.x & Position.x & Week.x & Largest & Team.y & Position.y & Week.y & SecLargest\\\\\n",
       "\\hline\n",
       "\t Team 10D/ST1  & Team 10       & D/ST          & 1             & 17            & Team 10       & D/ST          & 1             & 10           \\\\\n",
       "\t Team 10D/ST10 & Team 10       & D/ST          & 10            & 11            & Team 10       & D/ST          & 10            &  2           \\\\\n",
       "\t Team 10D/ST11 & Team 10       & D/ST          & 11            & 16            & Team 10       & D/ST          & 11            & 16           \\\\\n",
       "\t Team 10D/ST12 & Team 10       & D/ST          & 12            & 16            & Team 10       & D/ST          & 12            & 16           \\\\\n",
       "\t Team 10D/ST13 & Team 10       & D/ST          & 13            &  3            & Team 10       & D/ST          & 13            &  3           \\\\\n",
       "\t Team 10D/ST14 & Team 10       & D/ST          & 14            & 13            & Team 10       & D/ST          & 14            &  5           \\\\\n",
       "\\end{tabular}\n"
      ],
      "text/markdown": [
       "\n",
       "unique | Team.x | Position.x | Week.x | Largest | Team.y | Position.y | Week.y | SecLargest | \n",
       "|---|---|---|---|---|---|\n",
       "| Team 10D/ST1  | Team 10       | D/ST          | 1             | 17            | Team 10       | D/ST          | 1             | 10            | \n",
       "| Team 10D/ST10 | Team 10       | D/ST          | 10            | 11            | Team 10       | D/ST          | 10            |  2            | \n",
       "| Team 10D/ST11 | Team 10       | D/ST          | 11            | 16            | Team 10       | D/ST          | 11            | 16            | \n",
       "| Team 10D/ST12 | Team 10       | D/ST          | 12            | 16            | Team 10       | D/ST          | 12            | 16            | \n",
       "| Team 10D/ST13 | Team 10       | D/ST          | 13            |  3            | Team 10       | D/ST          | 13            |  3            | \n",
       "| Team 10D/ST14 | Team 10       | D/ST          | 14            | 13            | Team 10       | D/ST          | 14            |  5            | \n",
       "\n",
       "\n"
      ],
      "text/plain": [
       "  unique        Team.x  Position.x Week.x Largest Team.y  Position.y Week.y\n",
       "1 Team 10D/ST1  Team 10 D/ST       1      17      Team 10 D/ST       1     \n",
       "2 Team 10D/ST10 Team 10 D/ST       10     11      Team 10 D/ST       10    \n",
       "3 Team 10D/ST11 Team 10 D/ST       11     16      Team 10 D/ST       11    \n",
       "4 Team 10D/ST12 Team 10 D/ST       12     16      Team 10 D/ST       12    \n",
       "5 Team 10D/ST13 Team 10 D/ST       13      3      Team 10 D/ST       13    \n",
       "6 Team 10D/ST14 Team 10 D/ST       14     13      Team 10 D/ST       14    \n",
       "  SecLargest\n",
       "1 10        \n",
       "2  2        \n",
       "3 16        \n",
       "4 16        \n",
       "5  3        \n",
       "6  5        "
      ]
     },
     "metadata": {},
     "output_type": "display_data"
    }
   ],
   "source": [
    "head(combine)"
   ]
  },
  {
   "cell_type": "code",
   "execution_count": 75,
   "metadata": {},
   "outputs": [],
   "source": [
    "# Keep only the unique, Largest, and SecLargest columns and then combine combine and \n",
    "# original dataset\n",
    "combine <- combine %>% select(unique, Largest, SecLargest)\n",
    "final <- merge(fantasy_data, combine, by = 'unique')"
   ]
  },
  {
   "cell_type": "code",
   "execution_count": 80,
   "metadata": {},
   "outputs": [],
   "source": [
    "# Create column where it looks to see if starters have highest points and if not then 1\n",
    "final$BadDecision <- ifelse(final$Position == 'RB' &\n",
    "                             (final$Points != final$Largest & final$Points != final$SecLargest), 1,\n",
    "                     ifelse(final$Position == 'WR' &\n",
    "                             (final$Points != final$Largest & final$Points != final$SecLargest), 1,0))"
   ]
  },
  {
   "cell_type": "code",
   "execution_count": 81,
   "metadata": {},
   "outputs": [
    {
     "data": {
      "text/html": [
       "<table>\n",
       "<thead><tr><th></th><th scope=col>unique</th><th scope=col>Team</th><th scope=col>Position</th><th scope=col>Name</th><th scope=col>Projected</th><th scope=col>Points</th><th scope=col>Starter</th><th scope=col>Week</th><th scope=col>Largest</th><th scope=col>SecLargest</th><th scope=col>BadDecision</th></tr></thead>\n",
       "<tbody>\n",
       "\t<tr><th scope=row>2235</th><td>Team 9WR8        </td><td>Team 9           </td><td>WR               </td><td>Tim Patrick      </td><td> 0.0             </td><td> 0.0             </td><td>No               </td><td>8                </td><td>20.7             </td><td> 9.8             </td><td>1                </td></tr>\n",
       "\t<tr><th scope=row>2236</th><td>Team 9WR9        </td><td>Team 9           </td><td>WR               </td><td>Allen Robinson II</td><td>16.5             </td><td>15.1             </td><td>Yes              </td><td>9                </td><td>15.3             </td><td>15.1             </td><td>0                </td></tr>\n",
       "\t<tr><th scope=row>2237</th><td>Team 9WR9        </td><td>Team 9           </td><td>WR               </td><td>Robby Anderson   </td><td>14.3             </td><td>15.3             </td><td>Yes              </td><td>9                </td><td>15.3             </td><td>15.1             </td><td>0                </td></tr>\n",
       "\t<tr><th scope=row>2238</th><td>Team 9WR9        </td><td>Team 9           </td><td>WR               </td><td>Tim Patrick      </td><td> 9.3             </td><td>12.9             </td><td>No               </td><td>9                </td><td>15.3             </td><td>15.1             </td><td>1                </td></tr>\n",
       "\t<tr><th scope=row>2239</th><td>Team 9WR9        </td><td>Team 9           </td><td>WR               </td><td>Cole Beasley     </td><td>11.5             </td><td> 6.9             </td><td>Yes              </td><td>9                </td><td>15.3             </td><td>15.1             </td><td>1                </td></tr>\n",
       "\t<tr><th scope=row>2240</th><td>Team 9WR9        </td><td>Team 9           </td><td>WR               </td><td>Nelson Agholor   </td><td> 7.0             </td><td>13.5             </td><td>No               </td><td>9                </td><td>15.3             </td><td>15.1             </td><td>1                </td></tr>\n",
       "</tbody>\n",
       "</table>\n"
      ],
      "text/latex": [
       "\\begin{tabular}{r|lllllllllll}\n",
       "  & unique & Team & Position & Name & Projected & Points & Starter & Week & Largest & SecLargest & BadDecision\\\\\n",
       "\\hline\n",
       "\t2235 & Team 9WR8         & Team 9            & WR                & Tim Patrick       &  0.0              &  0.0              & No                & 8                 & 20.7              &  9.8              & 1                \\\\\n",
       "\t2236 & Team 9WR9         & Team 9            & WR                & Allen Robinson II & 16.5              & 15.1              & Yes               & 9                 & 15.3              & 15.1              & 0                \\\\\n",
       "\t2237 & Team 9WR9         & Team 9            & WR                & Robby Anderson    & 14.3              & 15.3              & Yes               & 9                 & 15.3              & 15.1              & 0                \\\\\n",
       "\t2238 & Team 9WR9         & Team 9            & WR                & Tim Patrick       &  9.3              & 12.9              & No                & 9                 & 15.3              & 15.1              & 1                \\\\\n",
       "\t2239 & Team 9WR9         & Team 9            & WR                & Cole Beasley      & 11.5              &  6.9              & Yes               & 9                 & 15.3              & 15.1              & 1                \\\\\n",
       "\t2240 & Team 9WR9         & Team 9            & WR                & Nelson Agholor    &  7.0              & 13.5              & No                & 9                 & 15.3              & 15.1              & 1                \\\\\n",
       "\\end{tabular}\n"
      ],
      "text/markdown": [
       "\n",
       "| <!--/--> | unique | Team | Position | Name | Projected | Points | Starter | Week | Largest | SecLargest | BadDecision | \n",
       "|---|---|---|---|---|---|\n",
       "| 2235 | Team 9WR8         | Team 9            | WR                | Tim Patrick       |  0.0              |  0.0              | No                | 8                 | 20.7              |  9.8              | 1                 | \n",
       "| 2236 | Team 9WR9         | Team 9            | WR                | Allen Robinson II | 16.5              | 15.1              | Yes               | 9                 | 15.3              | 15.1              | 0                 | \n",
       "| 2237 | Team 9WR9         | Team 9            | WR                | Robby Anderson    | 14.3              | 15.3              | Yes               | 9                 | 15.3              | 15.1              | 0                 | \n",
       "| 2238 | Team 9WR9         | Team 9            | WR                | Tim Patrick       |  9.3              | 12.9              | No                | 9                 | 15.3              | 15.1              | 1                 | \n",
       "| 2239 | Team 9WR9         | Team 9            | WR                | Cole Beasley      | 11.5              |  6.9              | Yes               | 9                 | 15.3              | 15.1              | 1                 | \n",
       "| 2240 | Team 9WR9         | Team 9            | WR                | Nelson Agholor    |  7.0              | 13.5              | No                | 9                 | 15.3              | 15.1              | 1                 | \n",
       "\n",
       "\n"
      ],
      "text/plain": [
       "     unique    Team   Position Name              Projected Points Starter Week\n",
       "2235 Team 9WR8 Team 9 WR       Tim Patrick        0.0       0.0   No      8   \n",
       "2236 Team 9WR9 Team 9 WR       Allen Robinson II 16.5      15.1   Yes     9   \n",
       "2237 Team 9WR9 Team 9 WR       Robby Anderson    14.3      15.3   Yes     9   \n",
       "2238 Team 9WR9 Team 9 WR       Tim Patrick        9.3      12.9   No      9   \n",
       "2239 Team 9WR9 Team 9 WR       Cole Beasley      11.5       6.9   Yes     9   \n",
       "2240 Team 9WR9 Team 9 WR       Nelson Agholor     7.0      13.5   No      9   \n",
       "     Largest SecLargest BadDecision\n",
       "2235 20.7     9.8       1          \n",
       "2236 15.3    15.1       0          \n",
       "2237 15.3    15.1       0          \n",
       "2238 15.3    15.1       1          \n",
       "2239 15.3    15.1       1          \n",
       "2240 15.3    15.1       1          "
      ]
     },
     "metadata": {},
     "output_type": "display_data"
    }
   ],
   "source": [
    "tail(final)"
   ]
  },
  {
   "cell_type": "code",
   "execution_count": 78,
   "metadata": {},
   "outputs": [
    {
     "data": {
      "text/html": [
       "<ol class=list-inline>\n",
       "\t<li>TRUE</li>\n",
       "\t<li>TRUE</li>\n",
       "\t<li>TRUE</li>\n",
       "\t<li>TRUE</li>\n",
       "\t<li>TRUE</li>\n",
       "\t<li>TRUE</li>\n",
       "</ol>\n"
      ],
      "text/latex": [
       "\\begin{enumerate*}\n",
       "\\item TRUE\n",
       "\\item TRUE\n",
       "\\item TRUE\n",
       "\\item TRUE\n",
       "\\item TRUE\n",
       "\\item TRUE\n",
       "\\end{enumerate*}\n"
      ],
      "text/markdown": [
       "1. TRUE\n",
       "2. TRUE\n",
       "3. TRUE\n",
       "4. TRUE\n",
       "5. TRUE\n",
       "6. TRUE\n",
       "\n",
       "\n"
      ],
      "text/plain": [
       "[1] TRUE TRUE TRUE TRUE TRUE TRUE"
      ]
     },
     "metadata": {},
     "output_type": "display_data"
    }
   ],
   "source": [
    "tail(final$Position == 'WR')"
   ]
  },
  {
   "cell_type": "code",
   "execution_count": 71,
   "metadata": {},
   "outputs": [
    {
     "data": {
      "text/html": [
       "<ol class=list-inline>\n",
       "\t<li>TRUE</li>\n",
       "\t<li>TRUE</li>\n",
       "\t<li>FALSE</li>\n",
       "\t<li>TRUE</li>\n",
       "\t<li>TRUE</li>\n",
       "\t<li>TRUE</li>\n",
       "</ol>\n"
      ],
      "text/latex": [
       "\\begin{enumerate*}\n",
       "\\item TRUE\n",
       "\\item TRUE\n",
       "\\item FALSE\n",
       "\\item TRUE\n",
       "\\item TRUE\n",
       "\\item TRUE\n",
       "\\end{enumerate*}\n"
      ],
      "text/markdown": [
       "1. TRUE\n",
       "2. TRUE\n",
       "3. FALSE\n",
       "4. TRUE\n",
       "5. TRUE\n",
       "6. TRUE\n",
       "\n",
       "\n"
      ],
      "text/plain": [
       "[1]  TRUE  TRUE FALSE  TRUE  TRUE  TRUE"
      ]
     },
     "metadata": {},
     "output_type": "display_data"
    }
   ],
   "source": [
    "tail(final$Points != final$Largest)"
   ]
  },
  {
   "cell_type": "code",
   "execution_count": 73,
   "metadata": {},
   "outputs": [
    {
     "data": {
      "text/html": [
       "<ol class=list-inline>\n",
       "\t<li>TRUE</li>\n",
       "\t<li>FALSE</li>\n",
       "\t<li>TRUE</li>\n",
       "\t<li>TRUE</li>\n",
       "\t<li>TRUE</li>\n",
       "\t<li>TRUE</li>\n",
       "</ol>\n"
      ],
      "text/latex": [
       "\\begin{enumerate*}\n",
       "\\item TRUE\n",
       "\\item FALSE\n",
       "\\item TRUE\n",
       "\\item TRUE\n",
       "\\item TRUE\n",
       "\\item TRUE\n",
       "\\end{enumerate*}\n"
      ],
      "text/markdown": [
       "1. TRUE\n",
       "2. FALSE\n",
       "3. TRUE\n",
       "4. TRUE\n",
       "5. TRUE\n",
       "6. TRUE\n",
       "\n",
       "\n"
      ],
      "text/plain": [
       "[1]  TRUE FALSE  TRUE  TRUE  TRUE  TRUE"
      ]
     },
     "metadata": {},
     "output_type": "display_data"
    }
   ],
   "source": [
    "tail(final$Points != final$SecLargest)"
   ]
  },
  {
   "cell_type": "code",
   "execution_count": 74,
   "metadata": {},
   "outputs": [
    {
     "data": {
      "text/html": [
       "<ol class=list-inline>\n",
       "\t<li>TRUE</li>\n",
       "\t<li>FALSE</li>\n",
       "\t<li>FALSE</li>\n",
       "\t<li>TRUE</li>\n",
       "\t<li>TRUE</li>\n",
       "\t<li>TRUE</li>\n",
       "</ol>\n"
      ],
      "text/latex": [
       "\\begin{enumerate*}\n",
       "\\item TRUE\n",
       "\\item FALSE\n",
       "\\item FALSE\n",
       "\\item TRUE\n",
       "\\item TRUE\n",
       "\\item TRUE\n",
       "\\end{enumerate*}\n"
      ],
      "text/markdown": [
       "1. TRUE\n",
       "2. FALSE\n",
       "3. FALSE\n",
       "4. TRUE\n",
       "5. TRUE\n",
       "6. TRUE\n",
       "\n",
       "\n"
      ],
      "text/plain": [
       "[1]  TRUE FALSE FALSE  TRUE  TRUE  TRUE"
      ]
     },
     "metadata": {},
     "output_type": "display_data"
    }
   ],
   "source": [
    "tail(final$Points != final$Largest & final$Points != final$SecLargest)"
   ]
  },
  {
   "cell_type": "code",
   "execution_count": 79,
   "metadata": {},
   "outputs": [
    {
     "data": {
      "text/html": [
       "<ol class=list-inline>\n",
       "\t<li>TRUE</li>\n",
       "\t<li>FALSE</li>\n",
       "\t<li>FALSE</li>\n",
       "\t<li>TRUE</li>\n",
       "\t<li>TRUE</li>\n",
       "\t<li>TRUE</li>\n",
       "</ol>\n"
      ],
      "text/latex": [
       "\\begin{enumerate*}\n",
       "\\item TRUE\n",
       "\\item FALSE\n",
       "\\item FALSE\n",
       "\\item TRUE\n",
       "\\item TRUE\n",
       "\\item TRUE\n",
       "\\end{enumerate*}\n"
      ],
      "text/markdown": [
       "1. TRUE\n",
       "2. FALSE\n",
       "3. FALSE\n",
       "4. TRUE\n",
       "5. TRUE\n",
       "6. TRUE\n",
       "\n",
       "\n"
      ],
      "text/plain": [
       "[1]  TRUE FALSE FALSE  TRUE  TRUE  TRUE"
      ]
     },
     "metadata": {},
     "output_type": "display_data"
    }
   ],
   "source": [
    "tail((final$Position == 'WR' & (final$Points != final$Largest & final$Points != final$SecLargest)))"
   ]
  },
  {
   "cell_type": "markdown",
   "metadata": {},
   "source": [
    "# Part 4: Visualizations"
   ]
  },
  {
   "cell_type": "markdown",
   "metadata": {},
   "source": [
    "# Part 5: What if analysis"
   ]
  }
 ],
 "metadata": {
  "kernelspec": {
   "display_name": "R",
   "language": "R",
   "name": "ir"
  },
  "language_info": {
   "codemirror_mode": "r",
   "file_extension": ".r",
   "mimetype": "text/x-r-source",
   "name": "R",
   "pygments_lexer": "r",
   "version": "3.4.1"
  }
 },
 "nbformat": 4,
 "nbformat_minor": 2
}
