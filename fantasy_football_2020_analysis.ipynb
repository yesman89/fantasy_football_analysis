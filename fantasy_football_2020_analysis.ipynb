{
 "cells": [
  {
   "cell_type": "code",
   "execution_count": 45,
   "metadata": {},
   "outputs": [],
   "source": [
    "library(tidyverse)\n",
    "library(readxl)"
   ]
  },
  {
   "cell_type": "markdown",
   "metadata": {},
   "source": [
    "# Part 1: Reading in and cleaning the data"
   ]
  },
  {
   "cell_type": "code",
   "execution_count": 24,
   "metadata": {},
   "outputs": [],
   "source": [
    "# Read in the fantasy football data\n",
    "fantasy_data <- read_xlsx('FantasyFootballData2020.xlsx')"
   ]
  },
  {
   "cell_type": "code",
   "execution_count": 25,
   "metadata": {},
   "outputs": [
    {
     "data": {
      "text/html": [
       "<table>\n",
       "<thead><tr><th scope=col>Team</th><th scope=col>Position</th><th scope=col>Name</th><th scope=col>Projected</th><th scope=col>Points</th><th scope=col>Starter</th><th scope=col>Week</th></tr></thead>\n",
       "<tbody>\n",
       "\t<tr><td>Team 1                      </td><td>QB                          </td><td>Cam NewtonCam Newton        </td><td>18.1                        </td><td>25.7                        </td><td>Yes                         </td><td>1                           </td></tr>\n",
       "\t<tr><td>Team 1                      </td><td>RB                          </td><td>Alvin KamaraAlvin Kamara    </td><td>19.6                        </td><td>23.7                        </td><td>Yes                         </td><td>1                           </td></tr>\n",
       "\t<tr><td>Team 1                      </td><td>RB                          </td><td>Kenyan DrakeKenyan Drake    </td><td>16.4                        </td><td>14.5                        </td><td>Yes                         </td><td>1                           </td></tr>\n",
       "\t<tr><td>Team 1                      </td><td>WR                          </td><td>DJ MooreDJ Moore            </td><td>15.0                        </td><td> 9.4                        </td><td>Yes                         </td><td>1                           </td></tr>\n",
       "\t<tr><td>Team 1                      </td><td>WR                          </td><td>Amari CooperAmari Cooper    </td><td>13.4                        </td><td>18.1                        </td><td>Yes                         </td><td>1                           </td></tr>\n",
       "\t<tr><td>Team 1                      </td><td>TE                          </td><td>Rob GronkowskiRob Gronkowski</td><td> 9.6                        </td><td> 3.1                        </td><td>Yes                         </td><td>1                           </td></tr>\n",
       "</tbody>\n",
       "</table>\n"
      ],
      "text/latex": [
       "\\begin{tabular}{r|lllllll}\n",
       " Team & Position & Name & Projected & Points & Starter & Week\\\\\n",
       "\\hline\n",
       "\t Team 1                       & QB                           & Cam NewtonCam Newton         & 18.1                         & 25.7                         & Yes                          & 1                           \\\\\n",
       "\t Team 1                       & RB                           & Alvin KamaraAlvin Kamara     & 19.6                         & 23.7                         & Yes                          & 1                           \\\\\n",
       "\t Team 1                       & RB                           & Kenyan DrakeKenyan Drake     & 16.4                         & 14.5                         & Yes                          & 1                           \\\\\n",
       "\t Team 1                       & WR                           & DJ MooreDJ Moore             & 15.0                         &  9.4                         & Yes                          & 1                           \\\\\n",
       "\t Team 1                       & WR                           & Amari CooperAmari Cooper     & 13.4                         & 18.1                         & Yes                          & 1                           \\\\\n",
       "\t Team 1                       & TE                           & Rob GronkowskiRob Gronkowski &  9.6                         &  3.1                         & Yes                          & 1                           \\\\\n",
       "\\end{tabular}\n"
      ],
      "text/markdown": [
       "\n",
       "Team | Position | Name | Projected | Points | Starter | Week | \n",
       "|---|---|---|---|---|---|\n",
       "| Team 1                       | QB                           | Cam NewtonCam Newton         | 18.1                         | 25.7                         | Yes                          | 1                            | \n",
       "| Team 1                       | RB                           | Alvin KamaraAlvin Kamara     | 19.6                         | 23.7                         | Yes                          | 1                            | \n",
       "| Team 1                       | RB                           | Kenyan DrakeKenyan Drake     | 16.4                         | 14.5                         | Yes                          | 1                            | \n",
       "| Team 1                       | WR                           | DJ MooreDJ Moore             | 15.0                         |  9.4                         | Yes                          | 1                            | \n",
       "| Team 1                       | WR                           | Amari CooperAmari Cooper     | 13.4                         | 18.1                         | Yes                          | 1                            | \n",
       "| Team 1                       | TE                           | Rob GronkowskiRob Gronkowski |  9.6                         |  3.1                         | Yes                          | 1                            | \n",
       "\n",
       "\n"
      ],
      "text/plain": [
       "  Team   Position Name                         Projected Points Starter Week\n",
       "1 Team 1 QB       Cam NewtonCam Newton         18.1      25.7   Yes     1   \n",
       "2 Team 1 RB       Alvin KamaraAlvin Kamara     19.6      23.7   Yes     1   \n",
       "3 Team 1 RB       Kenyan DrakeKenyan Drake     16.4      14.5   Yes     1   \n",
       "4 Team 1 WR       DJ MooreDJ Moore             15.0       9.4   Yes     1   \n",
       "5 Team 1 WR       Amari CooperAmari Cooper     13.4      18.1   Yes     1   \n",
       "6 Team 1 TE       Rob GronkowskiRob Gronkowski  9.6       3.1   Yes     1   "
      ]
     },
     "metadata": {},
     "output_type": "display_data"
    }
   ],
   "source": [
    "head(fantasy_data)"
   ]
  },
  {
   "cell_type": "code",
   "execution_count": 26,
   "metadata": {},
   "outputs": [
    {
     "name": "stdout",
     "output_type": "stream",
     "text": [
      "Classes 'tbl_df', 'tbl' and 'data.frame':\t2240 obs. of  7 variables:\n",
      " $ Team     : chr  \"Team 1\" \"Team 1\" \"Team 1\" \"Team 1\" ...\n",
      " $ Position : chr  \"QB\" \"RB\" \"RB\" \"WR\" ...\n",
      " $ Name     : chr  \"Cam NewtonCam Newton\" \"Alvin KamaraAlvin Kamara\" \"Kenyan DrakeKenyan Drake\" \"DJ MooreDJ Moore\" ...\n",
      " $ Projected: num  18.1 19.6 16.4 15 13.4 9.6 14.5 6.3 8.7 13.7 ...\n",
      " $ Points   : num  25.7 23.7 14.5 9.4 18.1 3.1 9.3 -9 9 6.6 ...\n",
      " $ Starter  : chr  \"Yes\" \"Yes\" \"Yes\" \"Yes\" ...\n",
      " $ Week     : num  1 1 1 1 1 1 1 1 1 1 ...\n"
     ]
    }
   ],
   "source": [
    "str(fantasy_data)"
   ]
  },
  {
   "cell_type": "code",
   "execution_count": 27,
   "metadata": {},
   "outputs": [],
   "source": [
    "# Clean the data. First correct the Name column to only display no duplicates\n",
    "fantasy_data$Name <- substr(fantasy_data$Name, 1, (nchar(fantasy_data$Name)/2))"
   ]
  },
  {
   "cell_type": "code",
   "execution_count": 28,
   "metadata": {},
   "outputs": [],
   "source": [
    "# Change week column to be categorical\n",
    "fantasy_data$Week <- as.factor(fantasy_data$Week)"
   ]
  },
  {
   "cell_type": "code",
   "execution_count": 29,
   "metadata": {},
   "outputs": [
    {
     "name": "stdout",
     "output_type": "stream",
     "text": [
      "Classes 'tbl_df', 'tbl' and 'data.frame':\t2240 obs. of  7 variables:\n",
      " $ Team     : chr  \"Team 1\" \"Team 1\" \"Team 1\" \"Team 1\" ...\n",
      " $ Position : chr  \"QB\" \"RB\" \"RB\" \"WR\" ...\n",
      " $ Name     : chr  \"Cam Newton\" \"Alvin Kamara\" \"Kenyan Drake\" \"DJ Moore\" ...\n",
      " $ Projected: num  18.1 19.6 16.4 15 13.4 9.6 14.5 6.3 8.7 13.7 ...\n",
      " $ Points   : num  25.7 23.7 14.5 9.4 18.1 3.1 9.3 -9 9 6.6 ...\n",
      " $ Starter  : chr  \"Yes\" \"Yes\" \"Yes\" \"Yes\" ...\n",
      " $ Week     : Factor w/ 14 levels \"1\",\"2\",\"3\",\"4\",..: 1 1 1 1 1 1 1 1 1 1 ...\n"
     ]
    }
   ],
   "source": [
    "# Now the data looks fine and it is time to transform the data and create new tables\n",
    "str(fantasy_data)"
   ]
  },
  {
   "cell_type": "markdown",
   "metadata": {},
   "source": [
    "# Part 2: Creating data sets"
   ]
  },
  {
   "cell_type": "code",
   "execution_count": 33,
   "metadata": {},
   "outputs": [
    {
     "data": {
      "text/html": [
       "<table>\n",
       "<thead><tr><th scope=col>Team</th><th scope=col>Actual</th><th scope=col>Projected</th><th scope=col>Difference</th></tr></thead>\n",
       "<tbody>\n",
       "\t<tr><td>Team 1 </td><td>1756.90</td><td>1714.2 </td><td>  42.70</td></tr>\n",
       "\t<tr><td>Team 10</td><td>1982.10</td><td>2025.6 </td><td> -43.50</td></tr>\n",
       "\t<tr><td>Team 2 </td><td>1614.80</td><td>1633.6 </td><td> -18.80</td></tr>\n",
       "\t<tr><td>Team 3 </td><td>1788.90</td><td>1844.8 </td><td> -55.90</td></tr>\n",
       "\t<tr><td>Team 4 </td><td>1617.80</td><td>1669.1 </td><td> -51.30</td></tr>\n",
       "\t<tr><td>Team 5 </td><td>1897.58</td><td>1778.7 </td><td> 118.88</td></tr>\n",
       "\t<tr><td>Team 6 </td><td>1490.18</td><td>1546.9 </td><td> -56.72</td></tr>\n",
       "\t<tr><td>Team 7 </td><td>1539.44</td><td>1701.7 </td><td>-162.26</td></tr>\n",
       "\t<tr><td>Team 8 </td><td>1631.68</td><td>1636.4 </td><td>  -4.72</td></tr>\n",
       "\t<tr><td>Team 9 </td><td>1796.78</td><td>1686.4 </td><td> 110.38</td></tr>\n",
       "</tbody>\n",
       "</table>\n"
      ],
      "text/latex": [
       "\\begin{tabular}{r|llll}\n",
       " Team & Actual & Projected & Difference\\\\\n",
       "\\hline\n",
       "\t Team 1  & 1756.90 & 1714.2  &   42.70\\\\\n",
       "\t Team 10 & 1982.10 & 2025.6  &  -43.50\\\\\n",
       "\t Team 2  & 1614.80 & 1633.6  &  -18.80\\\\\n",
       "\t Team 3  & 1788.90 & 1844.8  &  -55.90\\\\\n",
       "\t Team 4  & 1617.80 & 1669.1  &  -51.30\\\\\n",
       "\t Team 5  & 1897.58 & 1778.7  &  118.88\\\\\n",
       "\t Team 6  & 1490.18 & 1546.9  &  -56.72\\\\\n",
       "\t Team 7  & 1539.44 & 1701.7  & -162.26\\\\\n",
       "\t Team 8  & 1631.68 & 1636.4  &   -4.72\\\\\n",
       "\t Team 9  & 1796.78 & 1686.4  &  110.38\\\\\n",
       "\\end{tabular}\n"
      ],
      "text/markdown": [
       "\n",
       "Team | Actual | Projected | Difference | \n",
       "|---|---|---|---|---|---|---|---|---|---|\n",
       "| Team 1  | 1756.90 | 1714.2  |   42.70 | \n",
       "| Team 10 | 1982.10 | 2025.6  |  -43.50 | \n",
       "| Team 2  | 1614.80 | 1633.6  |  -18.80 | \n",
       "| Team 3  | 1788.90 | 1844.8  |  -55.90 | \n",
       "| Team 4  | 1617.80 | 1669.1  |  -51.30 | \n",
       "| Team 5  | 1897.58 | 1778.7  |  118.88 | \n",
       "| Team 6  | 1490.18 | 1546.9  |  -56.72 | \n",
       "| Team 7  | 1539.44 | 1701.7  | -162.26 | \n",
       "| Team 8  | 1631.68 | 1636.4  |   -4.72 | \n",
       "| Team 9  | 1796.78 | 1686.4  |  110.38 | \n",
       "\n",
       "\n"
      ],
      "text/plain": [
       "   Team    Actual  Projected Difference\n",
       "1  Team 1  1756.90 1714.2      42.70   \n",
       "2  Team 10 1982.10 2025.6     -43.50   \n",
       "3  Team 2  1614.80 1633.6     -18.80   \n",
       "4  Team 3  1788.90 1844.8     -55.90   \n",
       "5  Team 4  1617.80 1669.1     -51.30   \n",
       "6  Team 5  1897.58 1778.7     118.88   \n",
       "7  Team 6  1490.18 1546.9     -56.72   \n",
       "8  Team 7  1539.44 1701.7    -162.26   \n",
       "9  Team 8  1631.68 1636.4      -4.72   \n",
       "10 Team 9  1796.78 1686.4     110.38   "
      ]
     },
     "metadata": {},
     "output_type": "display_data"
    }
   ],
   "source": [
    "# Summarize point totals by team\n",
    "point_totals <- fantasy_data %>% filter(Starter == 'Yes') %>%\n",
    "                                 group_by(Team) %>%\n",
    "                                 summarize(Actual = sum(Points), Projected = sum(Projected),\n",
    "                                           Difference = Actual - Projected) \n",
    "point_totals                "
   ]
  },
  {
   "cell_type": "code",
   "execution_count": 35,
   "metadata": {
    "scrolled": true
   },
   "outputs": [
    {
     "data": {
      "text/html": [
       "<table>\n",
       "<thead><tr><th scope=col>Team</th><th scope=col>Week</th><th scope=col>Actual</th><th scope=col>Projected</th><th scope=col>Difference</th></tr></thead>\n",
       "<tbody>\n",
       "\t<tr><td>Team 1</td><td>1     </td><td>103.80</td><td>121.6 </td><td>-17.80</td></tr>\n",
       "\t<tr><td>Team 1</td><td>2     </td><td>136.10</td><td>119.0 </td><td> 17.10</td></tr>\n",
       "\t<tr><td>Team 1</td><td>3     </td><td>163.82</td><td>127.4 </td><td> 36.42</td></tr>\n",
       "\t<tr><td>Team 1</td><td>4     </td><td>134.88</td><td>131.8 </td><td>  3.08</td></tr>\n",
       "\t<tr><td>Team 1</td><td>5     </td><td>142.06</td><td>126.2 </td><td> 15.86</td></tr>\n",
       "\t<tr><td>Team 1</td><td>6     </td><td>123.00</td><td>117.7 </td><td>  5.30</td></tr>\n",
       "</tbody>\n",
       "</table>\n"
      ],
      "text/latex": [
       "\\begin{tabular}{r|lllll}\n",
       " Team & Week & Actual & Projected & Difference\\\\\n",
       "\\hline\n",
       "\t Team 1 & 1      & 103.80 & 121.6  & -17.80\\\\\n",
       "\t Team 1 & 2      & 136.10 & 119.0  &  17.10\\\\\n",
       "\t Team 1 & 3      & 163.82 & 127.4  &  36.42\\\\\n",
       "\t Team 1 & 4      & 134.88 & 131.8  &   3.08\\\\\n",
       "\t Team 1 & 5      & 142.06 & 126.2  &  15.86\\\\\n",
       "\t Team 1 & 6      & 123.00 & 117.7  &   5.30\\\\\n",
       "\\end{tabular}\n"
      ],
      "text/markdown": [
       "\n",
       "Team | Week | Actual | Projected | Difference | \n",
       "|---|---|---|---|---|---|\n",
       "| Team 1 | 1      | 103.80 | 121.6  | -17.80 | \n",
       "| Team 1 | 2      | 136.10 | 119.0  |  17.10 | \n",
       "| Team 1 | 3      | 163.82 | 127.4  |  36.42 | \n",
       "| Team 1 | 4      | 134.88 | 131.8  |   3.08 | \n",
       "| Team 1 | 5      | 142.06 | 126.2  |  15.86 | \n",
       "| Team 1 | 6      | 123.00 | 117.7  |   5.30 | \n",
       "\n",
       "\n"
      ],
      "text/plain": [
       "  Team   Week Actual Projected Difference\n",
       "1 Team 1 1    103.80 121.6     -17.80    \n",
       "2 Team 1 2    136.10 119.0      17.10    \n",
       "3 Team 1 3    163.82 127.4      36.42    \n",
       "4 Team 1 4    134.88 131.8       3.08    \n",
       "5 Team 1 5    142.06 126.2      15.86    \n",
       "6 Team 1 6    123.00 117.7       5.30    "
      ]
     },
     "metadata": {},
     "output_type": "display_data"
    }
   ],
   "source": [
    "# Summarize point totals by team and week\n",
    "point_totals_week <- fantasy_data %>% filter(Starter == 'Yes') %>%\n",
    "                                 group_by(Team, Week) %>%\n",
    "                                 summarize(Actual = sum(Points), Projected = sum(Projected),\n",
    "                                           Difference = Actual - Projected) \n",
    "head(point_totals_week)       "
   ]
  },
  {
   "cell_type": "code",
   "execution_count": 37,
   "metadata": {},
   "outputs": [
    {
     "data": {
      "text/html": [
       "<table>\n",
       "<thead><tr><th scope=col>Name</th><th scope=col>Position</th><th scope=col>Week</th><th scope=col>Actual</th><th scope=col>Projected</th><th scope=col>Difference</th></tr></thead>\n",
       "<tbody>\n",
       "\t<tr><td>49ers D/ST</td><td>D/ST      </td><td>1         </td><td> 1        </td><td>7.3       </td><td> -6.3     </td></tr>\n",
       "\t<tr><td>49ers D/ST</td><td>D/ST      </td><td>2         </td><td> 6        </td><td>8.5       </td><td> -2.5     </td></tr>\n",
       "\t<tr><td>49ers D/ST</td><td>D/ST      </td><td>3         </td><td>13        </td><td>8.0       </td><td>  5.0     </td></tr>\n",
       "\t<tr><td>49ers D/ST</td><td>D/ST      </td><td>4         </td><td> 7        </td><td>7.8       </td><td> -0.8     </td></tr>\n",
       "\t<tr><td>49ers D/ST</td><td>D/ST      </td><td>5         </td><td>-4        </td><td>7.2       </td><td>-11.2     </td></tr>\n",
       "\t<tr><td>49ers D/ST</td><td>D/ST      </td><td>14        </td><td>10        </td><td>7.0       </td><td>  3.0     </td></tr>\n",
       "</tbody>\n",
       "</table>\n"
      ],
      "text/latex": [
       "\\begin{tabular}{r|llllll}\n",
       " Name & Position & Week & Actual & Projected & Difference\\\\\n",
       "\\hline\n",
       "\t 49ers D/ST & D/ST       & 1          &  1         & 7.3        &  -6.3     \\\\\n",
       "\t 49ers D/ST & D/ST       & 2          &  6         & 8.5        &  -2.5     \\\\\n",
       "\t 49ers D/ST & D/ST       & 3          & 13         & 8.0        &   5.0     \\\\\n",
       "\t 49ers D/ST & D/ST       & 4          &  7         & 7.8        &  -0.8     \\\\\n",
       "\t 49ers D/ST & D/ST       & 5          & -4         & 7.2        & -11.2     \\\\\n",
       "\t 49ers D/ST & D/ST       & 14         & 10         & 7.0        &   3.0     \\\\\n",
       "\\end{tabular}\n"
      ],
      "text/markdown": [
       "\n",
       "Name | Position | Week | Actual | Projected | Difference | \n",
       "|---|---|---|---|---|---|\n",
       "| 49ers D/ST | D/ST       | 1          |  1         | 7.3        |  -6.3      | \n",
       "| 49ers D/ST | D/ST       | 2          |  6         | 8.5        |  -2.5      | \n",
       "| 49ers D/ST | D/ST       | 3          | 13         | 8.0        |   5.0      | \n",
       "| 49ers D/ST | D/ST       | 4          |  7         | 7.8        |  -0.8      | \n",
       "| 49ers D/ST | D/ST       | 5          | -4         | 7.2        | -11.2      | \n",
       "| 49ers D/ST | D/ST       | 14         | 10         | 7.0        |   3.0      | \n",
       "\n",
       "\n"
      ],
      "text/plain": [
       "  Name       Position Week Actual Projected Difference\n",
       "1 49ers D/ST D/ST     1     1     7.3        -6.3     \n",
       "2 49ers D/ST D/ST     2     6     8.5        -2.5     \n",
       "3 49ers D/ST D/ST     3    13     8.0         5.0     \n",
       "4 49ers D/ST D/ST     4     7     7.8        -0.8     \n",
       "5 49ers D/ST D/ST     5    -4     7.2       -11.2     \n",
       "6 49ers D/ST D/ST     14   10     7.0         3.0     "
      ]
     },
     "metadata": {},
     "output_type": "display_data"
    }
   ],
   "source": [
    "# Summarize point totals by team, player, by position, by week\n",
    "point_totals_player <- fantasy_data %>% filter(Starter == 'Yes') %>%\n",
    "                                 group_by(Name, Position, Week) %>%\n",
    "                                 summarize(Actual = sum(Points), Projected = sum(Projected),\n",
    "                                           Difference = Actual - Projected) \n",
    "head(point_totals_player) "
   ]
  },
  {
   "cell_type": "code",
   "execution_count": 47,
   "metadata": {},
   "outputs": [],
   "source": [
    "# Write to excel as a csv file for seperate presentation\n",
    "write.csv(point_totals_week, \"point_totals_week.csv\")\n",
    "write.csv(point_totals_player, \"point_totals_player.csv\")"
   ]
  },
  {
   "cell_type": "markdown",
   "metadata": {},
   "source": [
    "# Part 3: Decision making metrics"
   ]
  },
  {
   "cell_type": "markdown",
   "metadata": {},
   "source": [
    "# Part 4: Visualizations"
   ]
  },
  {
   "cell_type": "markdown",
   "metadata": {},
   "source": [
    "# Part 5: What if analysis"
   ]
  }
 ],
 "metadata": {
  "kernelspec": {
   "display_name": "R",
   "language": "R",
   "name": "ir"
  },
  "language_info": {
   "codemirror_mode": "r",
   "file_extension": ".r",
   "mimetype": "text/x-r-source",
   "name": "R",
   "pygments_lexer": "r",
   "version": "3.4.1"
  }
 },
 "nbformat": 4,
 "nbformat_minor": 2
}
