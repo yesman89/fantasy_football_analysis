{
 "cells": [
  {
   "cell_type": "code",
   "execution_count": 1,
   "metadata": {},
   "outputs": [
    {
     "name": "stderr",
     "output_type": "stream",
     "text": [
      "Warning message:\n",
      "\"package 'tidyverse' was built under R version 3.4.3\"-- Attaching packages --------------------------------------- tidyverse 1.2.1 --\n",
      "v ggplot2 2.2.1     v purrr   0.2.4\n",
      "v tibble  1.4.1     v dplyr   0.7.4\n",
      "v tidyr   0.7.2     v stringr 1.2.0\n",
      "v readr   1.1.1     v forcats 0.2.0\n",
      "Warning message:\n",
      "\"package 'tibble' was built under R version 3.4.3\"Warning message:\n",
      "\"package 'tidyr' was built under R version 3.4.2\"Warning message:\n",
      "\"package 'readr' was built under R version 3.4.2\"Warning message:\n",
      "\"package 'purrr' was built under R version 3.4.3\"Warning message:\n",
      "\"package 'dplyr' was built under R version 3.4.3\"Warning message:\n",
      "\"package 'forcats' was built under R version 3.4.2\"-- Conflicts ------------------------------------------ tidyverse_conflicts() --\n",
      "x dplyr::filter() masks stats::filter()\n",
      "x dplyr::lag()    masks stats::lag()\n",
      "Warning message:\n",
      "\"package 'readxl' was built under R version 3.4.3\""
     ]
    }
   ],
   "source": [
    "library(tidyverse)\n",
    "library(readxl)"
   ]
  },
  {
   "cell_type": "code",
   "execution_count": 3,
   "metadata": {},
   "outputs": [],
   "source": [
    "# Read in the fantasy football data\n",
    "fantasy_data <- read_xlsx('FantasyFootballData2020.xlsx')"
   ]
  },
  {
   "cell_type": "code",
   "execution_count": 4,
   "metadata": {},
   "outputs": [
    {
     "data": {
      "text/html": [
       "<table>\n",
       "<thead><tr><th scope=col>Fantasy Team</th><th scope=col>Slot</th><th scope=col>Name</th><th scope=col>Projected</th><th scope=col>Points</th><th scope=col>Starter</th><th scope=col>Week</th></tr></thead>\n",
       "<tbody>\n",
       "\t<tr><td>Team 1                      </td><td>QB                          </td><td>Cam NewtonCam Newton        </td><td>18.1                        </td><td>25.7                        </td><td>Yes                         </td><td>1                           </td></tr>\n",
       "\t<tr><td>Team 1                      </td><td>RB                          </td><td>Alvin KamaraAlvin Kamara    </td><td>19.6                        </td><td>23.7                        </td><td>Yes                         </td><td>1                           </td></tr>\n",
       "\t<tr><td>Team 1                      </td><td>RB                          </td><td>Kenyan DrakeKenyan Drake    </td><td>16.4                        </td><td>14.5                        </td><td>Yes                         </td><td>1                           </td></tr>\n",
       "\t<tr><td>Team 1                      </td><td>WR                          </td><td>DJ MooreDJ Moore            </td><td>15.0                        </td><td> 9.4                        </td><td>Yes                         </td><td>1                           </td></tr>\n",
       "\t<tr><td>Team 1                      </td><td>WR                          </td><td>Amari CooperAmari Cooper    </td><td>13.4                        </td><td>18.1                        </td><td>Yes                         </td><td>1                           </td></tr>\n",
       "\t<tr><td>Team 1                      </td><td>TE                          </td><td>Rob GronkowskiRob Gronkowski</td><td> 9.6                        </td><td> 3.1                        </td><td>Yes                         </td><td>1                           </td></tr>\n",
       "</tbody>\n",
       "</table>\n"
      ],
      "text/latex": [
       "\\begin{tabular}{r|lllllll}\n",
       " Fantasy Team & Slot & Name & Projected & Points & Starter & Week\\\\\n",
       "\\hline\n",
       "\t Team 1                       & QB                           & Cam NewtonCam Newton         & 18.1                         & 25.7                         & Yes                          & 1                           \\\\\n",
       "\t Team 1                       & RB                           & Alvin KamaraAlvin Kamara     & 19.6                         & 23.7                         & Yes                          & 1                           \\\\\n",
       "\t Team 1                       & RB                           & Kenyan DrakeKenyan Drake     & 16.4                         & 14.5                         & Yes                          & 1                           \\\\\n",
       "\t Team 1                       & WR                           & DJ MooreDJ Moore             & 15.0                         &  9.4                         & Yes                          & 1                           \\\\\n",
       "\t Team 1                       & WR                           & Amari CooperAmari Cooper     & 13.4                         & 18.1                         & Yes                          & 1                           \\\\\n",
       "\t Team 1                       & TE                           & Rob GronkowskiRob Gronkowski &  9.6                         &  3.1                         & Yes                          & 1                           \\\\\n",
       "\\end{tabular}\n"
      ],
      "text/markdown": [
       "\n",
       "Fantasy Team | Slot | Name | Projected | Points | Starter | Week | \n",
       "|---|---|---|---|---|---|\n",
       "| Team 1                       | QB                           | Cam NewtonCam Newton         | 18.1                         | 25.7                         | Yes                          | 1                            | \n",
       "| Team 1                       | RB                           | Alvin KamaraAlvin Kamara     | 19.6                         | 23.7                         | Yes                          | 1                            | \n",
       "| Team 1                       | RB                           | Kenyan DrakeKenyan Drake     | 16.4                         | 14.5                         | Yes                          | 1                            | \n",
       "| Team 1                       | WR                           | DJ MooreDJ Moore             | 15.0                         |  9.4                         | Yes                          | 1                            | \n",
       "| Team 1                       | WR                           | Amari CooperAmari Cooper     | 13.4                         | 18.1                         | Yes                          | 1                            | \n",
       "| Team 1                       | TE                           | Rob GronkowskiRob Gronkowski |  9.6                         |  3.1                         | Yes                          | 1                            | \n",
       "\n",
       "\n"
      ],
      "text/plain": [
       "  Fantasy Team Slot Name                         Projected Points Starter Week\n",
       "1 Team 1       QB   Cam NewtonCam Newton         18.1      25.7   Yes     1   \n",
       "2 Team 1       RB   Alvin KamaraAlvin Kamara     19.6      23.7   Yes     1   \n",
       "3 Team 1       RB   Kenyan DrakeKenyan Drake     16.4      14.5   Yes     1   \n",
       "4 Team 1       WR   DJ MooreDJ Moore             15.0       9.4   Yes     1   \n",
       "5 Team 1       WR   Amari CooperAmari Cooper     13.4      18.1   Yes     1   \n",
       "6 Team 1       TE   Rob GronkowskiRob Gronkowski  9.6       3.1   Yes     1   "
      ]
     },
     "metadata": {},
     "output_type": "display_data"
    }
   ],
   "source": [
    "head(fantasy_data)"
   ]
  },
  {
   "cell_type": "code",
   "execution_count": 5,
   "metadata": {},
   "outputs": [
    {
     "name": "stdout",
     "output_type": "stream",
     "text": [
      "Classes 'tbl_df', 'tbl' and 'data.frame':\t640 obs. of  7 variables:\n",
      " $ Fantasy Team: chr  \"Team 1\" \"Team 1\" \"Team 1\" \"Team 1\" ...\n",
      " $ Slot        : chr  \"QB\" \"RB\" \"RB\" \"WR\" ...\n",
      " $ Name        : chr  \"Cam NewtonCam Newton\" \"Alvin KamaraAlvin Kamara\" \"Kenyan DrakeKenyan Drake\" \"DJ MooreDJ Moore\" ...\n",
      " $ Projected   : num  18.1 19.6 16.4 15 13.4 9.6 14.5 6.3 8.7 13.7 ...\n",
      " $ Points      : num  25.7 23.7 14.5 9.4 18.1 3.1 9.3 -9 9 6.6 ...\n",
      " $ Starter     : chr  \"Yes\" \"Yes\" \"Yes\" \"Yes\" ...\n",
      " $ Week        : num  1 1 1 1 1 1 1 1 1 1 ...\n"
     ]
    }
   ],
   "source": [
    "str(fantasy_data)"
   ]
  },
  {
   "cell_type": "code",
   "execution_count": 6,
   "metadata": {},
   "outputs": [],
   "source": [
    "# Clean the data. First correct the Name column to only display no duplicates\n",
    "fantasy_data$Name <- substr(fantasy_data$Name, 1, (nchar(fantasy_data$Name)/2))"
   ]
  },
  {
   "cell_type": "code",
   "execution_count": 7,
   "metadata": {},
   "outputs": [],
   "source": [
    "# Change week column to be categorical\n",
    "fantasy_data$Week <- as.factor(fantasy_data$Week)"
   ]
  },
  {
   "cell_type": "code",
   "execution_count": 8,
   "metadata": {},
   "outputs": [
    {
     "name": "stdout",
     "output_type": "stream",
     "text": [
      "Classes 'tbl_df', 'tbl' and 'data.frame':\t640 obs. of  7 variables:\n",
      " $ Fantasy Team: chr  \"Team 1\" \"Team 1\" \"Team 1\" \"Team 1\" ...\n",
      " $ Slot        : chr  \"QB\" \"RB\" \"RB\" \"WR\" ...\n",
      " $ Name        : chr  \"Cam Newton\" \"Alvin Kamara\" \"Kenyan Drake\" \"DJ Moore\" ...\n",
      " $ Projected   : num  18.1 19.6 16.4 15 13.4 9.6 14.5 6.3 8.7 13.7 ...\n",
      " $ Points      : num  25.7 23.7 14.5 9.4 18.1 3.1 9.3 -9 9 6.6 ...\n",
      " $ Starter     : chr  \"Yes\" \"Yes\" \"Yes\" \"Yes\" ...\n",
      " $ Week        : Factor w/ 4 levels \"1\",\"2\",\"3\",\"4\": 1 1 1 1 1 1 1 1 1 1 ...\n"
     ]
    }
   ],
   "source": [
    "# Now the data looks fine and it is time to transform the data and create new tables\n",
    "str(fantasy_data)"
   ]
  },
  {
   "cell_type": "code",
   "execution_count": null,
   "metadata": {},
   "outputs": [],
   "source": []
  },
  {
   "cell_type": "code",
   "execution_count": null,
   "metadata": {},
   "outputs": [],
   "source": []
  }
 ],
 "metadata": {
  "kernelspec": {
   "display_name": "R",
   "language": "R",
   "name": "ir"
  },
  "language_info": {
   "codemirror_mode": "r",
   "file_extension": ".r",
   "mimetype": "text/x-r-source",
   "name": "R",
   "pygments_lexer": "r",
   "version": "3.4.1"
  }
 },
 "nbformat": 4,
 "nbformat_minor": 2
}
