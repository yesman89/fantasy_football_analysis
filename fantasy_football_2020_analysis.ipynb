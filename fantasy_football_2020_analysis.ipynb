{
 "cells": [
  {
   "cell_type": "code",
   "execution_count": 1,
   "metadata": {},
   "outputs": [
    {
     "name": "stderr",
     "output_type": "stream",
     "text": [
      "Warning message:\n",
      "\"package 'tidyverse' was built under R version 3.4.3\"-- Attaching packages --------------------------------------- tidyverse 1.2.1 --\n",
      "v ggplot2 2.2.1     v purrr   0.2.4\n",
      "v tibble  1.4.1     v dplyr   0.7.4\n",
      "v tidyr   0.7.2     v stringr 1.2.0\n",
      "v readr   1.1.1     v forcats 0.2.0\n",
      "Warning message:\n",
      "\"package 'tibble' was built under R version 3.4.3\"Warning message:\n",
      "\"package 'tidyr' was built under R version 3.4.2\"Warning message:\n",
      "\"package 'readr' was built under R version 3.4.2\"Warning message:\n",
      "\"package 'purrr' was built under R version 3.4.3\"Warning message:\n",
      "\"package 'dplyr' was built under R version 3.4.3\"Warning message:\n",
      "\"package 'forcats' was built under R version 3.4.2\"-- Conflicts ------------------------------------------ tidyverse_conflicts() --\n",
      "x dplyr::filter() masks stats::filter()\n",
      "x dplyr::lag()    masks stats::lag()\n",
      "Warning message:\n",
      "\"package 'readxl' was built under R version 3.4.3\"\n",
      "Attaching package: 'reshape2'\n",
      "\n",
      "The following object is masked from 'package:tidyr':\n",
      "\n",
      "    smiths\n",
      "\n"
     ]
    }
   ],
   "source": [
    "library(tidyverse)\n",
    "library(readxl)\n",
    "library(reshape2)"
   ]
  },
  {
   "cell_type": "markdown",
   "metadata": {},
   "source": [
    "# Part 1: Reading in and cleaning the data"
   ]
  },
  {
   "cell_type": "code",
   "execution_count": 2,
   "metadata": {},
   "outputs": [],
   "source": [
    "# Read in the fantasy football data\n",
    "fantasy_data <- read_xlsx('FantasyFootballData2020.xlsx')"
   ]
  },
  {
   "cell_type": "code",
   "execution_count": 3,
   "metadata": {},
   "outputs": [
    {
     "data": {
      "text/html": [
       "<table>\n",
       "<thead><tr><th scope=col>Team</th><th scope=col>Position</th><th scope=col>Name</th><th scope=col>Projected</th><th scope=col>Points</th><th scope=col>Starter</th><th scope=col>Week</th></tr></thead>\n",
       "<tbody>\n",
       "\t<tr><td>Team 1                      </td><td>QB                          </td><td>Cam NewtonCam Newton        </td><td>18.1                        </td><td>25.7                        </td><td>Yes                         </td><td>1                           </td></tr>\n",
       "\t<tr><td>Team 1                      </td><td>RB                          </td><td>Alvin KamaraAlvin Kamara    </td><td>19.6                        </td><td>23.7                        </td><td>Yes                         </td><td>1                           </td></tr>\n",
       "\t<tr><td>Team 1                      </td><td>RB                          </td><td>Kenyan DrakeKenyan Drake    </td><td>16.4                        </td><td>14.5                        </td><td>Yes                         </td><td>1                           </td></tr>\n",
       "\t<tr><td>Team 1                      </td><td>WR                          </td><td>DJ MooreDJ Moore            </td><td>15.0                        </td><td> 9.4                        </td><td>Yes                         </td><td>1                           </td></tr>\n",
       "\t<tr><td>Team 1                      </td><td>WR                          </td><td>Amari CooperAmari Cooper    </td><td>13.4                        </td><td>18.1                        </td><td>Yes                         </td><td>1                           </td></tr>\n",
       "\t<tr><td>Team 1                      </td><td>TE                          </td><td>Rob GronkowskiRob Gronkowski</td><td> 9.6                        </td><td> 3.1                        </td><td>Yes                         </td><td>1                           </td></tr>\n",
       "</tbody>\n",
       "</table>\n"
      ],
      "text/latex": [
       "\\begin{tabular}{r|lllllll}\n",
       " Team & Position & Name & Projected & Points & Starter & Week\\\\\n",
       "\\hline\n",
       "\t Team 1                       & QB                           & Cam NewtonCam Newton         & 18.1                         & 25.7                         & Yes                          & 1                           \\\\\n",
       "\t Team 1                       & RB                           & Alvin KamaraAlvin Kamara     & 19.6                         & 23.7                         & Yes                          & 1                           \\\\\n",
       "\t Team 1                       & RB                           & Kenyan DrakeKenyan Drake     & 16.4                         & 14.5                         & Yes                          & 1                           \\\\\n",
       "\t Team 1                       & WR                           & DJ MooreDJ Moore             & 15.0                         &  9.4                         & Yes                          & 1                           \\\\\n",
       "\t Team 1                       & WR                           & Amari CooperAmari Cooper     & 13.4                         & 18.1                         & Yes                          & 1                           \\\\\n",
       "\t Team 1                       & TE                           & Rob GronkowskiRob Gronkowski &  9.6                         &  3.1                         & Yes                          & 1                           \\\\\n",
       "\\end{tabular}\n"
      ],
      "text/markdown": [
       "\n",
       "Team | Position | Name | Projected | Points | Starter | Week | \n",
       "|---|---|---|---|---|---|\n",
       "| Team 1                       | QB                           | Cam NewtonCam Newton         | 18.1                         | 25.7                         | Yes                          | 1                            | \n",
       "| Team 1                       | RB                           | Alvin KamaraAlvin Kamara     | 19.6                         | 23.7                         | Yes                          | 1                            | \n",
       "| Team 1                       | RB                           | Kenyan DrakeKenyan Drake     | 16.4                         | 14.5                         | Yes                          | 1                            | \n",
       "| Team 1                       | WR                           | DJ MooreDJ Moore             | 15.0                         |  9.4                         | Yes                          | 1                            | \n",
       "| Team 1                       | WR                           | Amari CooperAmari Cooper     | 13.4                         | 18.1                         | Yes                          | 1                            | \n",
       "| Team 1                       | TE                           | Rob GronkowskiRob Gronkowski |  9.6                         |  3.1                         | Yes                          | 1                            | \n",
       "\n",
       "\n"
      ],
      "text/plain": [
       "  Team   Position Name                         Projected Points Starter Week\n",
       "1 Team 1 QB       Cam NewtonCam Newton         18.1      25.7   Yes     1   \n",
       "2 Team 1 RB       Alvin KamaraAlvin Kamara     19.6      23.7   Yes     1   \n",
       "3 Team 1 RB       Kenyan DrakeKenyan Drake     16.4      14.5   Yes     1   \n",
       "4 Team 1 WR       DJ MooreDJ Moore             15.0       9.4   Yes     1   \n",
       "5 Team 1 WR       Amari CooperAmari Cooper     13.4      18.1   Yes     1   \n",
       "6 Team 1 TE       Rob GronkowskiRob Gronkowski  9.6       3.1   Yes     1   "
      ]
     },
     "metadata": {},
     "output_type": "display_data"
    }
   ],
   "source": [
    "head(fantasy_data)"
   ]
  },
  {
   "cell_type": "code",
   "execution_count": 4,
   "metadata": {},
   "outputs": [
    {
     "name": "stdout",
     "output_type": "stream",
     "text": [
      "Classes 'tbl_df', 'tbl' and 'data.frame':\t2240 obs. of  7 variables:\n",
      " $ Team     : chr  \"Team 1\" \"Team 1\" \"Team 1\" \"Team 1\" ...\n",
      " $ Position : chr  \"QB\" \"RB\" \"RB\" \"WR\" ...\n",
      " $ Name     : chr  \"Cam NewtonCam Newton\" \"Alvin KamaraAlvin Kamara\" \"Kenyan DrakeKenyan Drake\" \"DJ MooreDJ Moore\" ...\n",
      " $ Projected: num  18.1 19.6 16.4 15 13.4 9.6 14.5 6.3 8.7 13.7 ...\n",
      " $ Points   : num  25.7 23.7 14.5 9.4 18.1 3.1 9.3 -9 9 6.6 ...\n",
      " $ Starter  : chr  \"Yes\" \"Yes\" \"Yes\" \"Yes\" ...\n",
      " $ Week     : num  1 1 1 1 1 1 1 1 1 1 ...\n"
     ]
    }
   ],
   "source": [
    "str(fantasy_data)"
   ]
  },
  {
   "cell_type": "code",
   "execution_count": 5,
   "metadata": {},
   "outputs": [],
   "source": [
    "# Clean the data. First correct the Name column to only display no duplicates\n",
    "fantasy_data$Name <- substr(fantasy_data$Name, 1, (nchar(fantasy_data$Name)/2))"
   ]
  },
  {
   "cell_type": "code",
   "execution_count": 6,
   "metadata": {},
   "outputs": [],
   "source": [
    "# Change week column to be categorical\n",
    "fantasy_data$Week <- as.factor(fantasy_data$Week)"
   ]
  },
  {
   "cell_type": "code",
   "execution_count": 7,
   "metadata": {},
   "outputs": [
    {
     "name": "stdout",
     "output_type": "stream",
     "text": [
      "Classes 'tbl_df', 'tbl' and 'data.frame':\t2240 obs. of  7 variables:\n",
      " $ Team     : chr  \"Team 1\" \"Team 1\" \"Team 1\" \"Team 1\" ...\n",
      " $ Position : chr  \"QB\" \"RB\" \"RB\" \"WR\" ...\n",
      " $ Name     : chr  \"Cam Newton\" \"Alvin Kamara\" \"Kenyan Drake\" \"DJ Moore\" ...\n",
      " $ Projected: num  18.1 19.6 16.4 15 13.4 9.6 14.5 6.3 8.7 13.7 ...\n",
      " $ Points   : num  25.7 23.7 14.5 9.4 18.1 3.1 9.3 -9 9 6.6 ...\n",
      " $ Starter  : chr  \"Yes\" \"Yes\" \"Yes\" \"Yes\" ...\n",
      " $ Week     : Factor w/ 14 levels \"1\",\"2\",\"3\",\"4\",..: 1 1 1 1 1 1 1 1 1 1 ...\n"
     ]
    }
   ],
   "source": [
    "# Now the data looks fine and it is time to transform the data and create new tables\n",
    "str(fantasy_data)"
   ]
  },
  {
   "cell_type": "code",
   "execution_count": 8,
   "metadata": {},
   "outputs": [],
   "source": [
    "# Add unique id column for later\n",
    "fantasy_data$unique <- paste0(fantasy_data$Team, fantasy_data$Position, fantasy_data$Week)"
   ]
  },
  {
   "cell_type": "markdown",
   "metadata": {},
   "source": [
    "# Part 2: Creating data sets"
   ]
  },
  {
   "cell_type": "code",
   "execution_count": 9,
   "metadata": {},
   "outputs": [
    {
     "data": {
      "text/html": [
       "<table>\n",
       "<thead><tr><th scope=col>Team</th><th scope=col>Actual</th><th scope=col>Projected</th><th scope=col>Difference</th></tr></thead>\n",
       "<tbody>\n",
       "\t<tr><td>Team 1 </td><td>1756.90</td><td>1714.2 </td><td>  42.70</td></tr>\n",
       "\t<tr><td>Team 10</td><td>1982.10</td><td>2025.6 </td><td> -43.50</td></tr>\n",
       "\t<tr><td>Team 2 </td><td>1614.80</td><td>1633.6 </td><td> -18.80</td></tr>\n",
       "\t<tr><td>Team 3 </td><td>1788.90</td><td>1844.8 </td><td> -55.90</td></tr>\n",
       "\t<tr><td>Team 4 </td><td>1617.80</td><td>1669.1 </td><td> -51.30</td></tr>\n",
       "\t<tr><td>Team 5 </td><td>1897.58</td><td>1778.7 </td><td> 118.88</td></tr>\n",
       "\t<tr><td>Team 6 </td><td>1490.18</td><td>1546.9 </td><td> -56.72</td></tr>\n",
       "\t<tr><td>Team 7 </td><td>1539.44</td><td>1701.7 </td><td>-162.26</td></tr>\n",
       "\t<tr><td>Team 8 </td><td>1631.68</td><td>1636.4 </td><td>  -4.72</td></tr>\n",
       "\t<tr><td>Team 9 </td><td>1796.78</td><td>1686.4 </td><td> 110.38</td></tr>\n",
       "</tbody>\n",
       "</table>\n"
      ],
      "text/latex": [
       "\\begin{tabular}{r|llll}\n",
       " Team & Actual & Projected & Difference\\\\\n",
       "\\hline\n",
       "\t Team 1  & 1756.90 & 1714.2  &   42.70\\\\\n",
       "\t Team 10 & 1982.10 & 2025.6  &  -43.50\\\\\n",
       "\t Team 2  & 1614.80 & 1633.6  &  -18.80\\\\\n",
       "\t Team 3  & 1788.90 & 1844.8  &  -55.90\\\\\n",
       "\t Team 4  & 1617.80 & 1669.1  &  -51.30\\\\\n",
       "\t Team 5  & 1897.58 & 1778.7  &  118.88\\\\\n",
       "\t Team 6  & 1490.18 & 1546.9  &  -56.72\\\\\n",
       "\t Team 7  & 1539.44 & 1701.7  & -162.26\\\\\n",
       "\t Team 8  & 1631.68 & 1636.4  &   -4.72\\\\\n",
       "\t Team 9  & 1796.78 & 1686.4  &  110.38\\\\\n",
       "\\end{tabular}\n"
      ],
      "text/markdown": [
       "\n",
       "Team | Actual | Projected | Difference | \n",
       "|---|---|---|---|---|---|---|---|---|---|\n",
       "| Team 1  | 1756.90 | 1714.2  |   42.70 | \n",
       "| Team 10 | 1982.10 | 2025.6  |  -43.50 | \n",
       "| Team 2  | 1614.80 | 1633.6  |  -18.80 | \n",
       "| Team 3  | 1788.90 | 1844.8  |  -55.90 | \n",
       "| Team 4  | 1617.80 | 1669.1  |  -51.30 | \n",
       "| Team 5  | 1897.58 | 1778.7  |  118.88 | \n",
       "| Team 6  | 1490.18 | 1546.9  |  -56.72 | \n",
       "| Team 7  | 1539.44 | 1701.7  | -162.26 | \n",
       "| Team 8  | 1631.68 | 1636.4  |   -4.72 | \n",
       "| Team 9  | 1796.78 | 1686.4  |  110.38 | \n",
       "\n",
       "\n"
      ],
      "text/plain": [
       "   Team    Actual  Projected Difference\n",
       "1  Team 1  1756.90 1714.2      42.70   \n",
       "2  Team 10 1982.10 2025.6     -43.50   \n",
       "3  Team 2  1614.80 1633.6     -18.80   \n",
       "4  Team 3  1788.90 1844.8     -55.90   \n",
       "5  Team 4  1617.80 1669.1     -51.30   \n",
       "6  Team 5  1897.58 1778.7     118.88   \n",
       "7  Team 6  1490.18 1546.9     -56.72   \n",
       "8  Team 7  1539.44 1701.7    -162.26   \n",
       "9  Team 8  1631.68 1636.4      -4.72   \n",
       "10 Team 9  1796.78 1686.4     110.38   "
      ]
     },
     "metadata": {},
     "output_type": "display_data"
    }
   ],
   "source": [
    "# Summarize point totals by team\n",
    "point_totals <- fantasy_data %>% filter(Starter == 'Yes') %>%\n",
    "                                 group_by(Team) %>%\n",
    "                                 summarize(Actual = sum(Points), Projected = sum(Projected),\n",
    "                                           Difference = Actual - Projected) \n",
    "point_totals                "
   ]
  },
  {
   "cell_type": "code",
   "execution_count": 10,
   "metadata": {
    "scrolled": true
   },
   "outputs": [
    {
     "data": {
      "text/html": [
       "<table>\n",
       "<thead><tr><th scope=col>Team</th><th scope=col>Week</th><th scope=col>Actual</th><th scope=col>Projected</th><th scope=col>Difference</th></tr></thead>\n",
       "<tbody>\n",
       "\t<tr><td>Team 1</td><td>1     </td><td>103.80</td><td>121.6 </td><td>-17.80</td></tr>\n",
       "\t<tr><td>Team 1</td><td>2     </td><td>136.10</td><td>119.0 </td><td> 17.10</td></tr>\n",
       "\t<tr><td>Team 1</td><td>3     </td><td>163.82</td><td>127.4 </td><td> 36.42</td></tr>\n",
       "\t<tr><td>Team 1</td><td>4     </td><td>134.88</td><td>131.8 </td><td>  3.08</td></tr>\n",
       "\t<tr><td>Team 1</td><td>5     </td><td>142.06</td><td>126.2 </td><td> 15.86</td></tr>\n",
       "\t<tr><td>Team 1</td><td>6     </td><td>123.00</td><td>117.7 </td><td>  5.30</td></tr>\n",
       "</tbody>\n",
       "</table>\n"
      ],
      "text/latex": [
       "\\begin{tabular}{r|lllll}\n",
       " Team & Week & Actual & Projected & Difference\\\\\n",
       "\\hline\n",
       "\t Team 1 & 1      & 103.80 & 121.6  & -17.80\\\\\n",
       "\t Team 1 & 2      & 136.10 & 119.0  &  17.10\\\\\n",
       "\t Team 1 & 3      & 163.82 & 127.4  &  36.42\\\\\n",
       "\t Team 1 & 4      & 134.88 & 131.8  &   3.08\\\\\n",
       "\t Team 1 & 5      & 142.06 & 126.2  &  15.86\\\\\n",
       "\t Team 1 & 6      & 123.00 & 117.7  &   5.30\\\\\n",
       "\\end{tabular}\n"
      ],
      "text/markdown": [
       "\n",
       "Team | Week | Actual | Projected | Difference | \n",
       "|---|---|---|---|---|---|\n",
       "| Team 1 | 1      | 103.80 | 121.6  | -17.80 | \n",
       "| Team 1 | 2      | 136.10 | 119.0  |  17.10 | \n",
       "| Team 1 | 3      | 163.82 | 127.4  |  36.42 | \n",
       "| Team 1 | 4      | 134.88 | 131.8  |   3.08 | \n",
       "| Team 1 | 5      | 142.06 | 126.2  |  15.86 | \n",
       "| Team 1 | 6      | 123.00 | 117.7  |   5.30 | \n",
       "\n",
       "\n"
      ],
      "text/plain": [
       "  Team   Week Actual Projected Difference\n",
       "1 Team 1 1    103.80 121.6     -17.80    \n",
       "2 Team 1 2    136.10 119.0      17.10    \n",
       "3 Team 1 3    163.82 127.4      36.42    \n",
       "4 Team 1 4    134.88 131.8       3.08    \n",
       "5 Team 1 5    142.06 126.2      15.86    \n",
       "6 Team 1 6    123.00 117.7       5.30    "
      ]
     },
     "metadata": {},
     "output_type": "display_data"
    }
   ],
   "source": [
    "# Summarize point totals by team and week\n",
    "point_totals_week <- fantasy_data %>% filter(Starter == 'Yes') %>%\n",
    "                                 group_by(Team, Week) %>%\n",
    "                                 summarize(Actual = sum(Points), Projected = sum(Projected),\n",
    "                                           Difference = Actual - Projected) \n",
    "head(point_totals_week)       "
   ]
  },
  {
   "cell_type": "code",
   "execution_count": 11,
   "metadata": {},
   "outputs": [
    {
     "data": {
      "text/html": [
       "<table>\n",
       "<thead><tr><th scope=col>Team</th><th scope=col>Name</th><th scope=col>Position</th><th scope=col>Week</th><th scope=col>Actual</th><th scope=col>Projected</th><th scope=col>Difference</th></tr></thead>\n",
       "<tbody>\n",
       "\t<tr><td>Team 1       </td><td>Aaron Rodgers</td><td>QB           </td><td>2            </td><td>19.20        </td><td>18.0         </td><td>  1.20       </td></tr>\n",
       "\t<tr><td>Team 1       </td><td>Aaron Rodgers</td><td>QB           </td><td>3            </td><td>24.52        </td><td>18.0         </td><td>  6.52       </td></tr>\n",
       "\t<tr><td>Team 1       </td><td>Aaron Rodgers</td><td>QB           </td><td>4            </td><td>29.58        </td><td>21.1         </td><td>  8.48       </td></tr>\n",
       "\t<tr><td>Team 1       </td><td>Aaron Rodgers</td><td>QB           </td><td>6            </td><td> 3.80        </td><td>19.4         </td><td>-15.60       </td></tr>\n",
       "\t<tr><td>Team 1       </td><td>Aaron Rodgers</td><td>QB           </td><td>7            </td><td>27.32        </td><td>20.6         </td><td>  6.72       </td></tr>\n",
       "\t<tr><td>Team 1       </td><td>Aaron Rodgers</td><td>QB           </td><td>8            </td><td>22.54        </td><td>19.2         </td><td>  3.34       </td></tr>\n",
       "</tbody>\n",
       "</table>\n"
      ],
      "text/latex": [
       "\\begin{tabular}{r|lllllll}\n",
       " Team & Name & Position & Week & Actual & Projected & Difference\\\\\n",
       "\\hline\n",
       "\t Team 1        & Aaron Rodgers & QB            & 2             & 19.20         & 18.0          &   1.20       \\\\\n",
       "\t Team 1        & Aaron Rodgers & QB            & 3             & 24.52         & 18.0          &   6.52       \\\\\n",
       "\t Team 1        & Aaron Rodgers & QB            & 4             & 29.58         & 21.1          &   8.48       \\\\\n",
       "\t Team 1        & Aaron Rodgers & QB            & 6             &  3.80         & 19.4          & -15.60       \\\\\n",
       "\t Team 1        & Aaron Rodgers & QB            & 7             & 27.32         & 20.6          &   6.72       \\\\\n",
       "\t Team 1        & Aaron Rodgers & QB            & 8             & 22.54         & 19.2          &   3.34       \\\\\n",
       "\\end{tabular}\n"
      ],
      "text/markdown": [
       "\n",
       "Team | Name | Position | Week | Actual | Projected | Difference | \n",
       "|---|---|---|---|---|---|\n",
       "| Team 1        | Aaron Rodgers | QB            | 2             | 19.20         | 18.0          |   1.20        | \n",
       "| Team 1        | Aaron Rodgers | QB            | 3             | 24.52         | 18.0          |   6.52        | \n",
       "| Team 1        | Aaron Rodgers | QB            | 4             | 29.58         | 21.1          |   8.48        | \n",
       "| Team 1        | Aaron Rodgers | QB            | 6             |  3.80         | 19.4          | -15.60        | \n",
       "| Team 1        | Aaron Rodgers | QB            | 7             | 27.32         | 20.6          |   6.72        | \n",
       "| Team 1        | Aaron Rodgers | QB            | 8             | 22.54         | 19.2          |   3.34        | \n",
       "\n",
       "\n"
      ],
      "text/plain": [
       "  Team   Name          Position Week Actual Projected Difference\n",
       "1 Team 1 Aaron Rodgers QB       2    19.20  18.0        1.20    \n",
       "2 Team 1 Aaron Rodgers QB       3    24.52  18.0        6.52    \n",
       "3 Team 1 Aaron Rodgers QB       4    29.58  21.1        8.48    \n",
       "4 Team 1 Aaron Rodgers QB       6     3.80  19.4      -15.60    \n",
       "5 Team 1 Aaron Rodgers QB       7    27.32  20.6        6.72    \n",
       "6 Team 1 Aaron Rodgers QB       8    22.54  19.2        3.34    "
      ]
     },
     "metadata": {},
     "output_type": "display_data"
    }
   ],
   "source": [
    "# Summarize point totals by team, player, by position, by week\n",
    "point_totals_player <- fantasy_data %>% filter(Starter == 'Yes') %>%\n",
    "                                 group_by(Team, Name, Position, Week) %>%\n",
    "                                 summarize(Actual = sum(Points), Projected = sum(Projected),\n",
    "                                           Difference = Actual - Projected) \n",
    "head(point_totals_player) "
   ]
  },
  {
   "cell_type": "code",
   "execution_count": 12,
   "metadata": {},
   "outputs": [],
   "source": [
    "# Write to excel as a csv file for seperate presentation\n",
    "write.csv(point_totals_week, \"point_totals_week.csv\")\n",
    "write.csv(point_totals_player, \"point_totals_player.csv\")"
   ]
  },
  {
   "cell_type": "markdown",
   "metadata": {},
   "source": [
    "# Part 3: Decision making metrics"
   ]
  },
  {
   "cell_type": "code",
   "execution_count": 13,
   "metadata": {},
   "outputs": [],
   "source": [
    "# We want to create something that takes a look at starters vs bench and see if a bench\n",
    "# player has  more actual points than a starter of the same position. If yes, then create a column\n",
    "# with a 1 else 0."
   ]
  },
  {
   "cell_type": "code",
   "execution_count": 9,
   "metadata": {},
   "outputs": [],
   "source": [
    "# Find the max value by Team, Position, and Week\n",
    "max <- aggregate(Points ~ Team + Position + Week, fantasy_data, function(x) {max(x)})\n",
    "\n",
    "# Add unique id column\n",
    "max$unique <- paste0(max$Team, max$Position, max$Week)\n",
    "\n",
    "# Rename Points column to Largest\n",
    "max <- max %>% rename(Largest = Points)"
   ]
  },
  {
   "cell_type": "code",
   "execution_count": 10,
   "metadata": {},
   "outputs": [
    {
     "data": {
      "text/html": [
       "<table>\n",
       "<thead><tr><th scope=col>Team</th><th scope=col>Position</th><th scope=col>Week</th><th scope=col>Largest</th><th scope=col>unique</th></tr></thead>\n",
       "<tbody>\n",
       "\t<tr><td>Team 1      </td><td>D/ST        </td><td>1           </td><td>-9          </td><td>Team 1D/ST1 </td></tr>\n",
       "\t<tr><td>Team 10     </td><td>D/ST        </td><td>1           </td><td>17          </td><td>Team 10D/ST1</td></tr>\n",
       "\t<tr><td>Team 2      </td><td>D/ST        </td><td>1           </td><td>12          </td><td>Team 2D/ST1 </td></tr>\n",
       "\t<tr><td>Team 3      </td><td>D/ST        </td><td>1           </td><td>10          </td><td>Team 3D/ST1 </td></tr>\n",
       "\t<tr><td>Team 4      </td><td>D/ST        </td><td>1           </td><td> 5          </td><td>Team 4D/ST1 </td></tr>\n",
       "\t<tr><td>Team 5      </td><td>D/ST        </td><td>1           </td><td> 3          </td><td>Team 5D/ST1 </td></tr>\n",
       "</tbody>\n",
       "</table>\n"
      ],
      "text/latex": [
       "\\begin{tabular}{r|lllll}\n",
       " Team & Position & Week & Largest & unique\\\\\n",
       "\\hline\n",
       "\t Team 1       & D/ST         & 1            & -9           & Team 1D/ST1 \\\\\n",
       "\t Team 10      & D/ST         & 1            & 17           & Team 10D/ST1\\\\\n",
       "\t Team 2       & D/ST         & 1            & 12           & Team 2D/ST1 \\\\\n",
       "\t Team 3       & D/ST         & 1            & 10           & Team 3D/ST1 \\\\\n",
       "\t Team 4       & D/ST         & 1            &  5           & Team 4D/ST1 \\\\\n",
       "\t Team 5       & D/ST         & 1            &  3           & Team 5D/ST1 \\\\\n",
       "\\end{tabular}\n"
      ],
      "text/markdown": [
       "\n",
       "Team | Position | Week | Largest | unique | \n",
       "|---|---|---|---|---|---|\n",
       "| Team 1       | D/ST         | 1            | -9           | Team 1D/ST1  | \n",
       "| Team 10      | D/ST         | 1            | 17           | Team 10D/ST1 | \n",
       "| Team 2       | D/ST         | 1            | 12           | Team 2D/ST1  | \n",
       "| Team 3       | D/ST         | 1            | 10           | Team 3D/ST1  | \n",
       "| Team 4       | D/ST         | 1            |  5           | Team 4D/ST1  | \n",
       "| Team 5       | D/ST         | 1            |  3           | Team 5D/ST1  | \n",
       "\n",
       "\n"
      ],
      "text/plain": [
       "  Team    Position Week Largest unique      \n",
       "1 Team 1  D/ST     1    -9      Team 1D/ST1 \n",
       "2 Team 10 D/ST     1    17      Team 10D/ST1\n",
       "3 Team 2  D/ST     1    12      Team 2D/ST1 \n",
       "4 Team 3  D/ST     1    10      Team 3D/ST1 \n",
       "5 Team 4  D/ST     1     5      Team 4D/ST1 \n",
       "6 Team 5  D/ST     1     3      Team 5D/ST1 "
      ]
     },
     "metadata": {},
     "output_type": "display_data"
    }
   ],
   "source": [
    "head(max)"
   ]
  },
  {
   "cell_type": "code",
   "execution_count": 11,
   "metadata": {},
   "outputs": [],
   "source": [
    "# Find the second largest value by Team, Position, and Week\n",
    "max2 <- aggregate(Points ~ Team + Position + Week, fantasy_data, function(x) {tail(sort(x), 2)[1]})\n",
    "\n",
    "# Add unique id column\n",
    "max2$unique <- paste0(max2$Team, max2$Position, max2$Week)\n",
    "\n",
    "# Rename Points column to SecLargest\n",
    "max2 <- max2 %>% rename(SecLargest = Points)"
   ]
  },
  {
   "cell_type": "code",
   "execution_count": 12,
   "metadata": {},
   "outputs": [
    {
     "data": {
      "text/html": [
       "<table>\n",
       "<thead><tr><th scope=col>Team</th><th scope=col>Position</th><th scope=col>Week</th><th scope=col>SecLargest</th><th scope=col>unique</th></tr></thead>\n",
       "<tbody>\n",
       "\t<tr><td>Team 1      </td><td>D/ST        </td><td>1           </td><td>-9          </td><td>Team 1D/ST1 </td></tr>\n",
       "\t<tr><td>Team 10     </td><td>D/ST        </td><td>1           </td><td>10          </td><td>Team 10D/ST1</td></tr>\n",
       "\t<tr><td>Team 2      </td><td>D/ST        </td><td>1           </td><td>12          </td><td>Team 2D/ST1 </td></tr>\n",
       "\t<tr><td>Team 3      </td><td>D/ST        </td><td>1           </td><td>10          </td><td>Team 3D/ST1 </td></tr>\n",
       "\t<tr><td>Team 4      </td><td>D/ST        </td><td>1           </td><td> 5          </td><td>Team 4D/ST1 </td></tr>\n",
       "\t<tr><td>Team 5      </td><td>D/ST        </td><td>1           </td><td> 3          </td><td>Team 5D/ST1 </td></tr>\n",
       "</tbody>\n",
       "</table>\n"
      ],
      "text/latex": [
       "\\begin{tabular}{r|lllll}\n",
       " Team & Position & Week & SecLargest & unique\\\\\n",
       "\\hline\n",
       "\t Team 1       & D/ST         & 1            & -9           & Team 1D/ST1 \\\\\n",
       "\t Team 10      & D/ST         & 1            & 10           & Team 10D/ST1\\\\\n",
       "\t Team 2       & D/ST         & 1            & 12           & Team 2D/ST1 \\\\\n",
       "\t Team 3       & D/ST         & 1            & 10           & Team 3D/ST1 \\\\\n",
       "\t Team 4       & D/ST         & 1            &  5           & Team 4D/ST1 \\\\\n",
       "\t Team 5       & D/ST         & 1            &  3           & Team 5D/ST1 \\\\\n",
       "\\end{tabular}\n"
      ],
      "text/markdown": [
       "\n",
       "Team | Position | Week | SecLargest | unique | \n",
       "|---|---|---|---|---|---|\n",
       "| Team 1       | D/ST         | 1            | -9           | Team 1D/ST1  | \n",
       "| Team 10      | D/ST         | 1            | 10           | Team 10D/ST1 | \n",
       "| Team 2       | D/ST         | 1            | 12           | Team 2D/ST1  | \n",
       "| Team 3       | D/ST         | 1            | 10           | Team 3D/ST1  | \n",
       "| Team 4       | D/ST         | 1            |  5           | Team 4D/ST1  | \n",
       "| Team 5       | D/ST         | 1            |  3           | Team 5D/ST1  | \n",
       "\n",
       "\n"
      ],
      "text/plain": [
       "  Team    Position Week SecLargest unique      \n",
       "1 Team 1  D/ST     1    -9         Team 1D/ST1 \n",
       "2 Team 10 D/ST     1    10         Team 10D/ST1\n",
       "3 Team 2  D/ST     1    12         Team 2D/ST1 \n",
       "4 Team 3  D/ST     1    10         Team 3D/ST1 \n",
       "5 Team 4  D/ST     1     5         Team 4D/ST1 \n",
       "6 Team 5  D/ST     1     3         Team 5D/ST1 "
      ]
     },
     "metadata": {},
     "output_type": "display_data"
    }
   ],
   "source": [
    "head(max2)"
   ]
  },
  {
   "cell_type": "code",
   "execution_count": 13,
   "metadata": {},
   "outputs": [],
   "source": [
    "# Combine max and max2 tables\n",
    "combine <- merge(max, max2, by='unique')"
   ]
  },
  {
   "cell_type": "code",
   "execution_count": 14,
   "metadata": {},
   "outputs": [
    {
     "data": {
      "text/html": [
       "<table>\n",
       "<thead><tr><th scope=col>unique</th><th scope=col>Team.x</th><th scope=col>Position.x</th><th scope=col>Week.x</th><th scope=col>Largest</th><th scope=col>Team.y</th><th scope=col>Position.y</th><th scope=col>Week.y</th><th scope=col>SecLargest</th></tr></thead>\n",
       "<tbody>\n",
       "\t<tr><td>Team 10D/ST1 </td><td>Team 10      </td><td>D/ST         </td><td>1            </td><td>17           </td><td>Team 10      </td><td>D/ST         </td><td>1            </td><td>10           </td></tr>\n",
       "\t<tr><td>Team 10D/ST10</td><td>Team 10      </td><td>D/ST         </td><td>10           </td><td>11           </td><td>Team 10      </td><td>D/ST         </td><td>10           </td><td> 2           </td></tr>\n",
       "\t<tr><td>Team 10D/ST11</td><td>Team 10      </td><td>D/ST         </td><td>11           </td><td>16           </td><td>Team 10      </td><td>D/ST         </td><td>11           </td><td>16           </td></tr>\n",
       "\t<tr><td>Team 10D/ST12</td><td>Team 10      </td><td>D/ST         </td><td>12           </td><td>16           </td><td>Team 10      </td><td>D/ST         </td><td>12           </td><td>16           </td></tr>\n",
       "\t<tr><td>Team 10D/ST13</td><td>Team 10      </td><td>D/ST         </td><td>13           </td><td> 3           </td><td>Team 10      </td><td>D/ST         </td><td>13           </td><td> 3           </td></tr>\n",
       "\t<tr><td>Team 10D/ST14</td><td>Team 10      </td><td>D/ST         </td><td>14           </td><td>13           </td><td>Team 10      </td><td>D/ST         </td><td>14           </td><td> 5           </td></tr>\n",
       "</tbody>\n",
       "</table>\n"
      ],
      "text/latex": [
       "\\begin{tabular}{r|lllllllll}\n",
       " unique & Team.x & Position.x & Week.x & Largest & Team.y & Position.y & Week.y & SecLargest\\\\\n",
       "\\hline\n",
       "\t Team 10D/ST1  & Team 10       & D/ST          & 1             & 17            & Team 10       & D/ST          & 1             & 10           \\\\\n",
       "\t Team 10D/ST10 & Team 10       & D/ST          & 10            & 11            & Team 10       & D/ST          & 10            &  2           \\\\\n",
       "\t Team 10D/ST11 & Team 10       & D/ST          & 11            & 16            & Team 10       & D/ST          & 11            & 16           \\\\\n",
       "\t Team 10D/ST12 & Team 10       & D/ST          & 12            & 16            & Team 10       & D/ST          & 12            & 16           \\\\\n",
       "\t Team 10D/ST13 & Team 10       & D/ST          & 13            &  3            & Team 10       & D/ST          & 13            &  3           \\\\\n",
       "\t Team 10D/ST14 & Team 10       & D/ST          & 14            & 13            & Team 10       & D/ST          & 14            &  5           \\\\\n",
       "\\end{tabular}\n"
      ],
      "text/markdown": [
       "\n",
       "unique | Team.x | Position.x | Week.x | Largest | Team.y | Position.y | Week.y | SecLargest | \n",
       "|---|---|---|---|---|---|\n",
       "| Team 10D/ST1  | Team 10       | D/ST          | 1             | 17            | Team 10       | D/ST          | 1             | 10            | \n",
       "| Team 10D/ST10 | Team 10       | D/ST          | 10            | 11            | Team 10       | D/ST          | 10            |  2            | \n",
       "| Team 10D/ST11 | Team 10       | D/ST          | 11            | 16            | Team 10       | D/ST          | 11            | 16            | \n",
       "| Team 10D/ST12 | Team 10       | D/ST          | 12            | 16            | Team 10       | D/ST          | 12            | 16            | \n",
       "| Team 10D/ST13 | Team 10       | D/ST          | 13            |  3            | Team 10       | D/ST          | 13            |  3            | \n",
       "| Team 10D/ST14 | Team 10       | D/ST          | 14            | 13            | Team 10       | D/ST          | 14            |  5            | \n",
       "\n",
       "\n"
      ],
      "text/plain": [
       "  unique        Team.x  Position.x Week.x Largest Team.y  Position.y Week.y\n",
       "1 Team 10D/ST1  Team 10 D/ST       1      17      Team 10 D/ST       1     \n",
       "2 Team 10D/ST10 Team 10 D/ST       10     11      Team 10 D/ST       10    \n",
       "3 Team 10D/ST11 Team 10 D/ST       11     16      Team 10 D/ST       11    \n",
       "4 Team 10D/ST12 Team 10 D/ST       12     16      Team 10 D/ST       12    \n",
       "5 Team 10D/ST13 Team 10 D/ST       13      3      Team 10 D/ST       13    \n",
       "6 Team 10D/ST14 Team 10 D/ST       14     13      Team 10 D/ST       14    \n",
       "  SecLargest\n",
       "1 10        \n",
       "2  2        \n",
       "3 16        \n",
       "4 16        \n",
       "5  3        \n",
       "6  5        "
      ]
     },
     "metadata": {},
     "output_type": "display_data"
    }
   ],
   "source": [
    "head(combine)"
   ]
  },
  {
   "cell_type": "code",
   "execution_count": 15,
   "metadata": {},
   "outputs": [],
   "source": [
    "# Keep only the unique, Largest, and SecLargest columns and then combine combine and \n",
    "# original dataset\n",
    "combine <- combine %>% select(unique, Largest, SecLargest)\n",
    "final <- merge(fantasy_data, combine, by = 'unique')"
   ]
  },
  {
   "cell_type": "code",
   "execution_count": 16,
   "metadata": {},
   "outputs": [],
   "source": [
    "# Create column where it looks to see if starters have highest points and if not then 1\n",
    "final$BadDecision <- ifelse((final$Position == 'RB' | final$Position == 'WR') &\n",
    "                             (final$Points != final$Largest & final$Points != final$SecLargest), 1,\n",
    "                     ifelse(!(final$Position == 'RB' | final$Position == 'WR') &\n",
    "                             (final$Points != final$Largest), 1, 0))"
   ]
  },
  {
   "cell_type": "code",
   "execution_count": 17,
   "metadata": {},
   "outputs": [
    {
     "name": "stdout",
     "output_type": "stream",
     "text": [
      "'data.frame':\t2240 obs. of  11 variables:\n",
      " $ unique     : chr  \"Team 10D/ST1\" \"Team 10D/ST1\" \"Team 10D/ST10\" \"Team 10D/ST10\" ...\n",
      " $ Team       : chr  \"Team 10\" \"Team 10\" \"Team 10\" \"Team 10\" ...\n",
      " $ Position   : chr  \"D/ST\" \"D/ST\" \"D/ST\" \"D/ST\" ...\n",
      " $ Name       : chr  \"Steelers D/ST\" \"Saints D/ST\" \"Steelers D/ST\" \"Eagles D/ST\" ...\n",
      " $ Projected  : num  8.2 4.7 6.5 7.5 7.2 7.5 7.5 6.8 5.6 7.9 ...\n",
      " $ Points     : num  10 17 11 2 16 16 3 13 5 13 ...\n",
      " $ Starter    : chr  \"Yes\" \"No\" \"No\" \"Yes\" ...\n",
      " $ Week       : Factor w/ 14 levels \"1\",\"2\",\"3\",\"4\",..: 1 1 10 10 11 12 13 14 14 2 ...\n",
      " $ Largest    : num  17 17 11 11 16 16 3 13 13 15 ...\n",
      " $ SecLargest : num  10 10 2 2 16 16 3 5 5 13 ...\n",
      " $ BadDecision: num  1 0 0 1 0 0 0 0 1 1 ...\n"
     ]
    }
   ],
   "source": [
    "str(final)"
   ]
  },
  {
   "cell_type": "code",
   "execution_count": 46,
   "metadata": {},
   "outputs": [],
   "source": [
    "# Create a table of total bad decisions by team\n",
    "final_bad_dec <- final %>% filter(Starter == 'Yes') %>%\n",
    "                           group_by(Team) %>% \n",
    "                           summarize(TotalBadDecisions = sum(BadDecision))"
   ]
  },
  {
   "cell_type": "code",
   "execution_count": 47,
   "metadata": {},
   "outputs": [
    {
     "data": {
      "text/html": [
       "<table>\n",
       "<thead><tr><th scope=col>Team</th><th scope=col>TotalBadDecisions</th></tr></thead>\n",
       "<tbody>\n",
       "\t<tr><td>Team 1 </td><td>37     </td></tr>\n",
       "\t<tr><td>Team 10</td><td>58     </td></tr>\n",
       "\t<tr><td>Team 2 </td><td>35     </td></tr>\n",
       "\t<tr><td>Team 3 </td><td>40     </td></tr>\n",
       "\t<tr><td>Team 4 </td><td>32     </td></tr>\n",
       "\t<tr><td>Team 5 </td><td>32     </td></tr>\n",
       "\t<tr><td>Team 6 </td><td>37     </td></tr>\n",
       "\t<tr><td>Team 7 </td><td>44     </td></tr>\n",
       "\t<tr><td>Team 8 </td><td>42     </td></tr>\n",
       "\t<tr><td>Team 9 </td><td>38     </td></tr>\n",
       "</tbody>\n",
       "</table>\n"
      ],
      "text/latex": [
       "\\begin{tabular}{r|ll}\n",
       " Team & TotalBadDecisions\\\\\n",
       "\\hline\n",
       "\t Team 1  & 37     \\\\\n",
       "\t Team 10 & 58     \\\\\n",
       "\t Team 2  & 35     \\\\\n",
       "\t Team 3  & 40     \\\\\n",
       "\t Team 4  & 32     \\\\\n",
       "\t Team 5  & 32     \\\\\n",
       "\t Team 6  & 37     \\\\\n",
       "\t Team 7  & 44     \\\\\n",
       "\t Team 8  & 42     \\\\\n",
       "\t Team 9  & 38     \\\\\n",
       "\\end{tabular}\n"
      ],
      "text/markdown": [
       "\n",
       "Team | TotalBadDecisions | \n",
       "|---|---|---|---|---|---|---|---|---|---|\n",
       "| Team 1  | 37      | \n",
       "| Team 10 | 58      | \n",
       "| Team 2  | 35      | \n",
       "| Team 3  | 40      | \n",
       "| Team 4  | 32      | \n",
       "| Team 5  | 32      | \n",
       "| Team 6  | 37      | \n",
       "| Team 7  | 44      | \n",
       "| Team 8  | 42      | \n",
       "| Team 9  | 38      | \n",
       "\n",
       "\n"
      ],
      "text/plain": [
       "   Team    TotalBadDecisions\n",
       "1  Team 1  37               \n",
       "2  Team 10 58               \n",
       "3  Team 2  35               \n",
       "4  Team 3  40               \n",
       "5  Team 4  32               \n",
       "6  Team 5  32               \n",
       "7  Team 6  37               \n",
       "8  Team 7  44               \n",
       "9  Team 8  42               \n",
       "10 Team 9  38               "
      ]
     },
     "metadata": {},
     "output_type": "display_data"
    }
   ],
   "source": [
    "final_bad_dec"
   ]
  },
  {
   "cell_type": "code",
   "execution_count": 40,
   "metadata": {},
   "outputs": [],
   "source": [
    "# Export final dataset\n",
    "write.csv(final, \"final_fantasy_2020_data.csv\")"
   ]
  },
  {
   "cell_type": "markdown",
   "metadata": {},
   "source": [
    "# Part 4: Visualizations and Tables"
   ]
  },
  {
   "cell_type": "code",
   "execution_count": 18,
   "metadata": {},
   "outputs": [
    {
     "name": "stderr",
     "output_type": "stream",
     "text": [
      "\n",
      "Attaching package: 'reshape2'\n",
      "\n",
      "The following object is masked from 'package:tidyr':\n",
      "\n",
      "    smiths\n",
      "\n"
     ]
    }
   ],
   "source": [
    "# Summarize point totals by team\n",
    "point_totals <- fantasy_data %>% filter(Starter == 'Yes') %>%\n",
    "                                 group_by(Team) %>%\n",
    "                                 summarize(Actual = sum(Points), Projected = sum(Projected)) \n",
    "\n",
    "# Transform point total dataset by using melt function\n",
    "point_totals_comp <- melt(point_totals, id.vars = 'Team')\n",
    "point_totals_comp <- point_totals_comp %>% rename(PointType = variable, Points = value)"
   ]
  },
  {
   "cell_type": "code",
   "execution_count": 19,
   "metadata": {},
   "outputs": [
    {
     "data": {
      "text/html": [
       "<table>\n",
       "<thead><tr><th scope=col>Team</th><th scope=col>PointType</th><th scope=col>Points</th></tr></thead>\n",
       "<tbody>\n",
       "\t<tr><td>Team 1 </td><td>Actual </td><td>1756.90</td></tr>\n",
       "\t<tr><td>Team 10</td><td>Actual </td><td>1982.10</td></tr>\n",
       "\t<tr><td>Team 2 </td><td>Actual </td><td>1614.80</td></tr>\n",
       "\t<tr><td>Team 3 </td><td>Actual </td><td>1788.90</td></tr>\n",
       "\t<tr><td>Team 4 </td><td>Actual </td><td>1617.80</td></tr>\n",
       "\t<tr><td>Team 5 </td><td>Actual </td><td>1897.58</td></tr>\n",
       "</tbody>\n",
       "</table>\n"
      ],
      "text/latex": [
       "\\begin{tabular}{r|lll}\n",
       " Team & PointType & Points\\\\\n",
       "\\hline\n",
       "\t Team 1  & Actual  & 1756.90\\\\\n",
       "\t Team 10 & Actual  & 1982.10\\\\\n",
       "\t Team 2  & Actual  & 1614.80\\\\\n",
       "\t Team 3  & Actual  & 1788.90\\\\\n",
       "\t Team 4  & Actual  & 1617.80\\\\\n",
       "\t Team 5  & Actual  & 1897.58\\\\\n",
       "\\end{tabular}\n"
      ],
      "text/markdown": [
       "\n",
       "Team | PointType | Points | \n",
       "|---|---|---|---|---|---|\n",
       "| Team 1  | Actual  | 1756.90 | \n",
       "| Team 10 | Actual  | 1982.10 | \n",
       "| Team 2  | Actual  | 1614.80 | \n",
       "| Team 3  | Actual  | 1788.90 | \n",
       "| Team 4  | Actual  | 1617.80 | \n",
       "| Team 5  | Actual  | 1897.58 | \n",
       "\n",
       "\n"
      ],
      "text/plain": [
       "  Team    PointType Points \n",
       "1 Team 1  Actual    1756.90\n",
       "2 Team 10 Actual    1982.10\n",
       "3 Team 2  Actual    1614.80\n",
       "4 Team 3  Actual    1788.90\n",
       "5 Team 4  Actual    1617.80\n",
       "6 Team 5  Actual    1897.58"
      ]
     },
     "metadata": {},
     "output_type": "display_data"
    }
   ],
   "source": [
    "head(point_totals_comp)"
   ]
  },
  {
   "cell_type": "code",
   "execution_count": 20,
   "metadata": {},
   "outputs": [
    {
     "data": {},
     "metadata": {},
     "output_type": "display_data"
    },
    {
     "data": {
      "image/png": "[encoded data removed]",
      "text/plain": [
       "plot without title"
      ]
     },
     "metadata": {},
     "output_type": "display_data"
    }
   ],
   "source": [
    "# Create visualization for point totals by team and put in the side projected as well\n",
    "point_totals_comp %>% ggplot(aes(x = Team, y = Points, fill = PointType)) + \n",
    "                        geom_bar(stat = \"identity\", position='dodge') + \n",
    "                        geom_text(aes(label=Points), angle = 45, color=\"black\", size=2.5, \n",
    "                                  fontface = \"bold\", position = position_dodge(.9))"
   ]
  },
  {
   "cell_type": "code",
   "execution_count": 23,
   "metadata": {},
   "outputs": [
    {
     "data": {
      "text/html": [
       "<table>\n",
       "<thead><tr><th scope=col>Team</th><th scope=col>Week</th><th scope=col>Actual</th><th scope=col>Projected</th></tr></thead>\n",
       "<tbody>\n",
       "\t<tr><td>Team 1</td><td>1     </td><td>103.80</td><td>121.6 </td></tr>\n",
       "\t<tr><td>Team 1</td><td>2     </td><td>136.10</td><td>119.0 </td></tr>\n",
       "\t<tr><td>Team 1</td><td>3     </td><td>163.82</td><td>127.4 </td></tr>\n",
       "\t<tr><td>Team 1</td><td>4     </td><td>134.88</td><td>131.8 </td></tr>\n",
       "\t<tr><td>Team 1</td><td>5     </td><td>142.06</td><td>126.2 </td></tr>\n",
       "\t<tr><td>Team 1</td><td>6     </td><td>123.00</td><td>117.7 </td></tr>\n",
       "</tbody>\n",
       "</table>\n"
      ],
      "text/latex": [
       "\\begin{tabular}{r|llll}\n",
       " Team & Week & Actual & Projected\\\\\n",
       "\\hline\n",
       "\t Team 1 & 1      & 103.80 & 121.6 \\\\\n",
       "\t Team 1 & 2      & 136.10 & 119.0 \\\\\n",
       "\t Team 1 & 3      & 163.82 & 127.4 \\\\\n",
       "\t Team 1 & 4      & 134.88 & 131.8 \\\\\n",
       "\t Team 1 & 5      & 142.06 & 126.2 \\\\\n",
       "\t Team 1 & 6      & 123.00 & 117.7 \\\\\n",
       "\\end{tabular}\n"
      ],
      "text/markdown": [
       "\n",
       "Team | Week | Actual | Projected | \n",
       "|---|---|---|---|---|---|\n",
       "| Team 1 | 1      | 103.80 | 121.6  | \n",
       "| Team 1 | 2      | 136.10 | 119.0  | \n",
       "| Team 1 | 3      | 163.82 | 127.4  | \n",
       "| Team 1 | 4      | 134.88 | 131.8  | \n",
       "| Team 1 | 5      | 142.06 | 126.2  | \n",
       "| Team 1 | 6      | 123.00 | 117.7  | \n",
       "\n",
       "\n"
      ],
      "text/plain": [
       "  Team   Week Actual Projected\n",
       "1 Team 1 1    103.80 121.6    \n",
       "2 Team 1 2    136.10 119.0    \n",
       "3 Team 1 3    163.82 127.4    \n",
       "4 Team 1 4    134.88 131.8    \n",
       "5 Team 1 5    142.06 126.2    \n",
       "6 Team 1 6    123.00 117.7    "
      ]
     },
     "metadata": {},
     "output_type": "display_data"
    }
   ],
   "source": [
    "# Summarize point totals by team and Week\n",
    "point_totals_week <- fantasy_data %>% filter(Starter == 'Yes') %>%\n",
    "                                 group_by(Team, Week) %>%\n",
    "                                 summarize(Actual = sum(Points), Projected = sum(Projected)) \n",
    "head(point_totals_week)\n",
    "\n",
    "# Transform point total dataset by using melt function\n",
    "point_totals_week_comp <- melt(point_totals_week, id.vars = c('Team', 'Week'))\n",
    "point_totals_week_comp <- point_totals_week_comp %>% rename(PointType = variable, Points = value)"
   ]
  },
  {
   "cell_type": "code",
   "execution_count": 28,
   "metadata": {},
   "outputs": [
    {
     "name": "stdout",
     "output_type": "stream",
     "text": [
      "'data.frame':\t274 obs. of  4 variables:\n",
      " $ Team     : chr  \"Team 1\" \"Team 1\" \"Team 1\" \"Team 1\" ...\n",
      " $ Week     : Factor w/ 14 levels \"1\",\"2\",\"3\",\"4\",..: 1 2 3 4 5 6 7 8 9 10 ...\n",
      " $ PointType: Factor w/ 2 levels \"Actual\",\"Projected\": 1 1 1 1 1 1 1 1 1 1 ...\n",
      " $ Points   : num  104 136 164 135 142 ...\n"
     ]
    }
   ],
   "source": [
    "str(point_totals_week_comp)"
   ]
  },
  {
   "cell_type": "code",
   "execution_count": 37,
   "metadata": {},
   "outputs": [
    {
     "data": {},
     "metadata": {},
     "output_type": "display_data"
    },
    {
     "data": {
      "image/png": "[encoded data removed]",
      "text/plain": [
       "plot without title"
      ]
     },
     "metadata": {},
     "output_type": "display_data"
    }
   ],
   "source": [
    "# Create visualization for point totals by week and make a visualization by team\n",
    "point_totals_week_comp %>% ggplot(aes(x = Week, y = Points, fill = PointType)) +\n",
    "                                  geom_bar(stat = \"identity\", position='dodge') +\n",
    "                                  facet_wrap(~ Team)"
   ]
  },
  {
   "cell_type": "code",
   "execution_count": 43,
   "metadata": {},
   "outputs": [
    {
     "data": {
      "text/html": [
       "<table>\n",
       "<thead><tr><th scope=col>Team</th><th scope=col>Position</th><th scope=col>Name</th><th scope=col>Actual</th></tr></thead>\n",
       "<tbody>\n",
       "\t<tr><td>Team 4         </td><td>QB             </td><td>Patrick Mahomes</td><td>329.32         </td></tr>\n",
       "\t<tr><td>Team 1         </td><td>RB             </td><td>Alvin Kamara   </td><td>303.20         </td></tr>\n",
       "\t<tr><td>Team 4         </td><td>WR             </td><td>Tyreek Hill    </td><td>301.00         </td></tr>\n",
       "\t<tr><td>Team 5         </td><td>QB             </td><td>Deshaun Watson </td><td>293.34         </td></tr>\n",
       "\t<tr><td>Team 9         </td><td>QB             </td><td>Kyler Murray   </td><td>291.56         </td></tr>\n",
       "\t<tr><td>Team 3         </td><td>WR             </td><td>Davante Adams  </td><td>287.40         </td></tr>\n",
       "\t<tr><td>Team 1         </td><td>QB             </td><td>Aaron Rodgers  </td><td>283.04         </td></tr>\n",
       "\t<tr><td>Team 10        </td><td>QB             </td><td>Russell Wilson </td><td>277.92         </td></tr>\n",
       "\t<tr><td>Team 10        </td><td>RB             </td><td>Derrick Henry  </td><td>243.80         </td></tr>\n",
       "\t<tr><td>Team 2         </td><td>TE             </td><td>Travis Kelce   </td><td>243.16         </td></tr>\n",
       "</tbody>\n",
       "</table>\n"
      ],
      "text/latex": [
       "\\begin{tabular}{r|llll}\n",
       " Team & Position & Name & Actual\\\\\n",
       "\\hline\n",
       "\t Team 4          & QB              & Patrick Mahomes & 329.32         \\\\\n",
       "\t Team 1          & RB              & Alvin Kamara    & 303.20         \\\\\n",
       "\t Team 4          & WR              & Tyreek Hill     & 301.00         \\\\\n",
       "\t Team 5          & QB              & Deshaun Watson  & 293.34         \\\\\n",
       "\t Team 9          & QB              & Kyler Murray    & 291.56         \\\\\n",
       "\t Team 3          & WR              & Davante Adams   & 287.40         \\\\\n",
       "\t Team 1          & QB              & Aaron Rodgers   & 283.04         \\\\\n",
       "\t Team 10         & QB              & Russell Wilson  & 277.92         \\\\\n",
       "\t Team 10         & RB              & Derrick Henry   & 243.80         \\\\\n",
       "\t Team 2          & TE              & Travis Kelce    & 243.16         \\\\\n",
       "\\end{tabular}\n"
      ],
      "text/markdown": [
       "\n",
       "Team | Position | Name | Actual | \n",
       "|---|---|---|---|---|---|---|---|---|---|\n",
       "| Team 4          | QB              | Patrick Mahomes | 329.32          | \n",
       "| Team 1          | RB              | Alvin Kamara    | 303.20          | \n",
       "| Team 4          | WR              | Tyreek Hill     | 301.00          | \n",
       "| Team 5          | QB              | Deshaun Watson  | 293.34          | \n",
       "| Team 9          | QB              | Kyler Murray    | 291.56          | \n",
       "| Team 3          | WR              | Davante Adams   | 287.40          | \n",
       "| Team 1          | QB              | Aaron Rodgers   | 283.04          | \n",
       "| Team 10         | QB              | Russell Wilson  | 277.92          | \n",
       "| Team 10         | RB              | Derrick Henry   | 243.80          | \n",
       "| Team 2          | TE              | Travis Kelce    | 243.16          | \n",
       "\n",
       "\n"
      ],
      "text/plain": [
       "   Team    Position Name            Actual\n",
       "1  Team 4  QB       Patrick Mahomes 329.32\n",
       "2  Team 1  RB       Alvin Kamara    303.20\n",
       "3  Team 4  WR       Tyreek Hill     301.00\n",
       "4  Team 5  QB       Deshaun Watson  293.34\n",
       "5  Team 9  QB       Kyler Murray    291.56\n",
       "6  Team 3  WR       Davante Adams   287.40\n",
       "7  Team 1  QB       Aaron Rodgers   283.04\n",
       "8  Team 10 QB       Russell Wilson  277.92\n",
       "9  Team 10 RB       Derrick Henry   243.80\n",
       "10 Team 2  TE       Travis Kelce    243.16"
      ]
     },
     "metadata": {},
     "output_type": "display_data"
    }
   ],
   "source": [
    "#Who are the top scorers vs top projected in the season\n",
    "top_player <- fantasy_data %>% filter(Starter == 'Yes') %>%\n",
    "                                 group_by(Team, Position, Name) %>%\n",
    "                                 summarize(Actual = sum(Points)) %>%\n",
    "                                 arrange(desc(Actual))\n",
    "\n",
    "head(top_player, 10)"
   ]
  },
  {
   "cell_type": "code",
   "execution_count": 21,
   "metadata": {},
   "outputs": [],
   "source": [
    "# Who is the top 5 scorers by position for the year\n",
    "point_totals_players <- fantasy_data %>% filter(Starter == 'Yes') %>%\n",
    "                                 group_by(Position, Name) %>%\n",
    "                                 summarize(Actual = sum(Points))"
   ]
  },
  {
   "cell_type": "code",
   "execution_count": 36,
   "metadata": {},
   "outputs": [
    {
     "data": {
      "text/plain": [
       "Position: D/ST\n",
       "# A tibble: 5 x 3\n",
       "# Groups: Position [1]\n",
       "  Position Name            Actual\n",
       "  <chr>    <chr>            <dbl>\n",
       "1 D/ST     Steelers D/ST     99.0\n",
       "2 D/ST     Colts D/ST        89.0\n",
       "3 D/ST     Ravens D/ST       85.0\n",
       "4 D/ST     Rams D/ST         82.0\n",
       "5 D/ST     Washington D/ST   64.0\n",
       "------------------------------------------------------------ \n",
       "Position: K\n",
       "# A tibble: 5 x 3\n",
       "# Groups: Position [1]\n",
       "  Position Name            Actual\n",
       "  <chr>    <chr>            <dbl>\n",
       "1 K        Justin Tucker      117\n",
       "2 K        Harrison Butker    116\n",
       "3 K        Ryan Succop        108\n",
       "4 K        Wil Lutz           107\n",
       "5 K        Younghoe Koo       106\n",
       "------------------------------------------------------------ \n",
       "Position: QB\n",
       "# A tibble: 5 x 3\n",
       "# Groups: Position [1]\n",
       "  Position Name            Actual\n",
       "  <chr>    <chr>            <dbl>\n",
       "1 QB       Patrick Mahomes    329\n",
       "2 QB       Deshaun Watson     293\n",
       "3 QB       Kyler Murray       292\n",
       "4 QB       Aaron Rodgers      283\n",
       "5 QB       Russell Wilson     278\n",
       "------------------------------------------------------------ \n",
       "Position: RB\n",
       "# A tibble: 5 x 3\n",
       "# Groups: Position [1]\n",
       "  Position Name            Actual\n",
       "  <chr>    <chr>            <dbl>\n",
       "1 RB       Alvin Kamara       303\n",
       "2 RB       Dalvin Cook        294\n",
       "3 RB       Derrick Henry      244\n",
       "4 RB       Aaron Jones        190\n",
       "5 RB       Ezekiel Elliott    182\n",
       "------------------------------------------------------------ \n",
       "Position: TE\n",
       "# A tibble: 5 x 3\n",
       "# Groups: Position [1]\n",
       "  Position Name           Actual\n",
       "  <chr>    <chr>           <dbl>\n",
       "1 TE       Travis Kelce      267\n",
       "2 TE       Darren Waller     206\n",
       "3 TE       T.J. Hockenson    136\n",
       "4 TE       Mark Andrews      132\n",
       "5 TE       Hunter Henry      128\n",
       "------------------------------------------------------------ \n",
       "Position: WR\n",
       "# A tibble: 5 x 3\n",
       "# Groups: Position [1]\n",
       "  Position Name          Actual\n",
       "  <chr>    <chr>          <dbl>\n",
       "1 WR       Tyreek Hill      301\n",
       "2 WR       Davante Adams    287\n",
       "3 WR       DK Metcalf       245\n",
       "4 WR       Keenan Allen     242\n",
       "5 WR       Stefon Diggs     232"
      ]
     },
     "metadata": {},
     "output_type": "display_data"
    }
   ],
   "source": [
    "# Get the best 5 players by position for the season\n",
    "best_5 <- point_totals_players[order(point_totals_players$Actual, decreasing = TRUE), ]\n",
    "best_5 <- by(best_5, best_5[\"Position\"], head, n=5)\n",
    "best_5"
   ]
  },
  {
   "cell_type": "code",
   "execution_count": 37,
   "metadata": {},
   "outputs": [],
   "source": [
    "# Who is the top 5 scorers by Team for the year\n",
    "point_totals_mvps <- fantasy_data %>% filter(Starter == 'Yes') %>%\n",
    "                                 group_by(Team, Name) %>%\n",
    "                                 summarize(Actual = sum(Points))"
   ]
  },
  {
   "cell_type": "code",
   "execution_count": 39,
   "metadata": {},
   "outputs": [
    {
     "data": {
      "text/plain": [
       "Team: Team 1\n",
       "# A tibble: 5 x 3\n",
       "# Groups: Team [1]\n",
       "  Team   Name          Actual\n",
       "  <chr>  <chr>          <dbl>\n",
       "1 Team 1 Alvin Kamara     303\n",
       "2 Team 1 Aaron Rodgers    283\n",
       "3 Team 1 Amari Cooper     185\n",
       "4 Team 1 Mike Davis       165\n",
       "5 Team 1 DJ Moore         149\n",
       "------------------------------------------------------------ \n",
       "Team: Team 10\n",
       "# A tibble: 5 x 3\n",
       "# Groups: Team [1]\n",
       "  Team    Name           Actual\n",
       "  <chr>   <chr>           <dbl>\n",
       "1 Team 10 Russell Wilson    278\n",
       "2 Team 10 Derrick Henry     244\n",
       "3 Team 10 Adam Thielen      191\n",
       "4 Team 10 Terry McLaurin    156\n",
       "5 Team 10 Tyler Boyd        129\n",
       "------------------------------------------------------------ \n",
       "Team: Team 2\n",
       "# A tibble: 5 x 3\n",
       "# Groups: Team [1]\n",
       "  Team   Name             Actual\n",
       "  <chr>  <chr>             <dbl>\n",
       "1 Team 2 Travis Kelce        243\n",
       "2 Team 2 Keenan Allen        226\n",
       "3 Team 2 Josh Allen          213\n",
       "4 Team 2 Cooper Kupp         172\n",
       "5 Team 2 David Montgomery    157\n",
       "------------------------------------------------------------ \n",
       "Team: Team 3\n",
       "# A tibble: 5 x 3\n",
       "# Groups: Team [1]\n",
       "  Team   Name            Actual\n",
       "  <chr>  <chr>            <dbl>\n",
       "1 Team 3 Davante Adams      287\n",
       "2 Team 3 Dalvin Cook        230\n",
       "3 Team 3 DK Metcalf         187\n",
       "4 Team 3 Ezekiel Elliott    182\n",
       "5 Team 3 Dak Prescott       136\n",
       "------------------------------------------------------------ \n",
       "Team: Team 4\n",
       "# A tibble: 5 x 3\n",
       "# Groups: Team [1]\n",
       "  Team   Name            Actual\n",
       "  <chr>  <chr>            <dbl>\n",
       "1 Team 4 Patrick Mahomes    329\n",
       "2 Team 4 Tyreek Hill        301\n",
       "3 Team 4 Robert Woods       207\n",
       "4 Team 4 Ronald Jones II    142\n",
       "5 Team 4 Diontae Johnson    105\n",
       "------------------------------------------------------------ \n",
       "Team: Team 5\n",
       "# A tibble: 5 x 3\n",
       "# Groups: Team [1]\n",
       "  Team   Name            Actual\n",
       "  <chr>  <chr>            <dbl>\n",
       "1 Team 5 Deshaun Watson     293\n",
       "2 Team 5 Stefon Diggs       232\n",
       "3 Team 5 DeAndre Hopkins    215\n",
       "4 Team 5 Calvin Ridley      188\n",
       "5 Team 5 James Robinson     174\n",
       "------------------------------------------------------------ \n",
       "Team: Team 6\n",
       "# A tibble: 5 x 3\n",
       "# Groups: Team [1]\n",
       "  Team   Name             Actual\n",
       "  <chr>  <chr>             <dbl>\n",
       "1 Team 6 Tom Brady         148  \n",
       "2 Team 6 A.J. Brown        143  \n",
       "3 Team 6 Julio Jones       128  \n",
       "4 Team 6 James Conner      122  \n",
       "5 Team 6 Justin Jefferson   97.8\n",
       "------------------------------------------------------------ \n",
       "Team: Team 7\n",
       "# A tibble: 5 x 3\n",
       "# Groups: Team [1]\n",
       "  Team   Name           Actual\n",
       "  <chr>  <chr>           <dbl>\n",
       "1 Team 7 Tyler Lockett     218\n",
       "2 Team 7 Matt Ryan         212\n",
       "3 Team 7 Darren Waller     206\n",
       "4 Team 7 Kareem Hunt       181\n",
       "5 Team 7 Todd Gurley II    132\n",
       "------------------------------------------------------------ \n",
       "Team: Team 8\n",
       "# A tibble: 5 x 3\n",
       "# Groups: Team [1]\n",
       "  Team   Name                  Actual\n",
       "  <chr>  <chr>                  <dbl>\n",
       "1 Team 8 Matthew Stafford         165\n",
       "2 Team 8 Josh Jacobs              160\n",
       "3 Team 8 JuJu Smith-Schuster      157\n",
       "4 Team 8 Clyde Edwards-Helaire    146\n",
       "5 Team 8 Will Fuller V            130\n",
       "------------------------------------------------------------ \n",
       "Team: Team 9\n",
       "# A tibble: 5 x 3\n",
       "# Groups: Team [1]\n",
       "  Team   Name              Actual\n",
       "  <chr>  <chr>              <dbl>\n",
       "1 Team 9 Kyler Murray         292\n",
       "2 Team 9 Allen Robinson II    204\n",
       "3 Team 9 Robby Anderson       196\n",
       "4 Team 9 Aaron Jones          190\n",
       "5 Team 9 T.J. Hockenson       136"
      ]
     },
     "metadata": {},
     "output_type": "display_data"
    }
   ],
   "source": [
    "# Get the best 5 players by team for the season\n",
    "best_5_team <- point_totals_mvps[order(point_totals_mvps$Actual, decreasing = TRUE), ]\n",
    "best_5_team <- by(best_5_team, best_5_team[\"Team\"], head, n=5)\n",
    "best_5_team"
   ]
  },
  {
   "cell_type": "markdown",
   "metadata": {},
   "source": [
    "# Part 5: What if analysis"
   ]
  }
 ],
 "metadata": {
  "kernelspec": {
   "display_name": "R",
   "language": "R",
   "name": "ir"
  },
  "language_info": {
   "codemirror_mode": "r",
   "file_extension": ".r",
   "mimetype": "text/x-r-source",
   "name": "R",
   "pygments_lexer": "r",
   "version": "3.4.1"
  }
 },
 "nbformat": 4,
 "nbformat_minor": 2
}
